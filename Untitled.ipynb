{
 "cells": [
  {
   "cell_type": "code",
   "execution_count": 181,
   "id": "36bddf06",
   "metadata": {},
   "outputs": [],
   "source": [
    "import requests\n",
    "import json\n",
    "import time\n",
    "import html\n",
    "import re\n",
    "\n",
    "import pandas as pd\n",
    "import csv\n",
    "\n",
    "from scipy import stats\n",
    "\n",
    "import matplotlib\n",
    "import matplotlib.pyplot as plt\n",
    "\n",
    "import seaborn as sns\n",
    "\n",
    "import statsmodels.api as sm\n",
    "\n",
    "from sklearn.metrics import roc_auc_score\n",
    "from sklearn.metrics import roc_curve\n",
    "from sklearn.datasets import make_classification\n",
    "from sklearn.model_selection import train_test_split\n",
    "from sklearn.preprocessing import StandardScaler\n",
    "from sklearn.svm import SVC\n",
    "from sklearn import svm\n",
    "from sklearn.linear_model import LogisticRegression\n",
    "from sklearn.feature_selection import RFE\n",
    "from sklearn.naive_bayes import GaussianNB\n",
    "from sklearn.metrics import accuracy_score\n",
    "from sklearn.metrics import classification_report, confusion_matrix\n",
    "from sklearn.ensemble import RandomForestClassifier"
   ]
  },
  {
   "cell_type": "code",
   "execution_count": 23,
   "id": "c921dd12",
   "metadata": {},
   "outputs": [
    {
     "name": "stdout",
     "output_type": "stream",
     "text": [
      "Fetched 100 posts so far...\n",
      "Fetched 200 posts so far...\n",
      "Reached the last available post.\n",
      "Saved 238 posts to 'file'\n"
     ]
    }
   ],
   "source": [
    "url = \"https://www.reddit.com/r/AmItheAsshole/search.json\"\n",
    "headers = {\"User-Agent\": \"Mozilla/5.0 (Windows NT 10.0; Win64; x64) AppleWebKit/537.36 (KHTML, like Gecko) Chrome/132.0.0.0 Safari/537.36\"}\n",
    "\n",
    "def clean_dict(d):\n",
    "    if isinstance(d, dict):\n",
    "        return {key: clean_dict(value) for key, value in d.items()}\n",
    "    elif isinstance(d, list):\n",
    "        return [clean_dict(item) for item in d]\n",
    "    elif isinstance(d, str):\n",
    "        return html.unescape(d).replace(\"\\n\\n\", \" \").replace(\"\\n\", \"\").replace(\"\\\"\", \"\").replace(\"\\\\\", \"\").replace(\"&#x200B;\", \"\").replace(\"\\\\u2019\", \"'\")\n",
    "    else:\n",
    "        return d\n",
    "\n",
    "def fetch_reddit_posts(max_posts=1000):\n",
    "    \n",
    "    posts = []\n",
    "    after = None  # Pagination token\n",
    "\n",
    "    while len(posts) < max_posts:\n",
    "        params = {\n",
    "            \"q\": 'flair:\"Not the A-hole\"',  # Search for flair\n",
    "            \"restrict_sr\": 1,        # Restrict search to this subreddit\n",
    "            \"sort\": \"top\",           # Sort by\n",
    "            \"limit\": 100,            # Fetch 100 posts per request (max allowed)\n",
    "            \"after\": after,          # Pagination token\n",
    "            \"t\" : \"year\"\n",
    "        }\n",
    "\n",
    "        response = requests.get(url, headers=headers, params=params)\n",
    "\n",
    "        if response.status_code != 200:\n",
    "            print(f\"Error {response.status_code}: {response.text}\")\n",
    "            break\n",
    "\n",
    "        data = response.json()\n",
    "        children = data[\"data\"][\"children\"]\n",
    "\n",
    "        if not children:\n",
    "            print(\"No more posts found.\")\n",
    "            break\n",
    "\n",
    "        # Extract filtered fields\n",
    "        for post in children:\n",
    "            post_data = post[\"data\"]\n",
    "            filtered_post = {\n",
    "                \"selftext\": post_data.get(\"selftext\"),\n",
    "                \"gilded\": post_data.get(\"gilded\"),\n",
    "                \"title\": post_data.get(\"title\"),\n",
    "                \"upvote_ratio\": post_data.get(\"upvote_ratio\"),\n",
    "                \"ups\": post_data.get(\"ups\"),\n",
    "                \"link_flair_text\" : post_data.get(\"link_flair_text\"),\n",
    "                \"created\" : post_data.get(\"created\"),\n",
    "                \"num_comments\" : post_data.get(\"num_comments\"),\n",
    "                \"url\" : post_data.get(\"url\"),\n",
    "                \"num_crossposts\" : post_data.get(\"num_crossposts\")\n",
    "            }\n",
    "            cleaned_post = clean_dict(filtered_post)\n",
    "            posts.append(cleaned_post)\n",
    "\n",
    "        # Get `after` token for pagination\n",
    "        after = data[\"data\"].get(\"after\")\n",
    "        if not after:\n",
    "            print(\"Reached the last available post.\")\n",
    "            break\n",
    "\n",
    "        print(f\"Fetched {len(posts)} posts so far...\")\n",
    "\n",
    "        time.sleep(3.5)\n",
    "\n",
    "    return posts[:max_posts]\n",
    "\n",
    "# Run the function\n",
    "posts = fetch_reddit_posts(max_posts=1000)\n",
    "\n",
    "# Save filtered data to a JSON file\n",
    "with open(\"nta_topyear_2025-2-7.json\", \"a\", encoding=\"utf-8\") as file:\n",
    "    json.dump(posts, file, indent=4)\n",
    "\n",
    "print(f\"Saved {len(posts)} posts to 'file'\")"
   ]
  },
  {
   "cell_type": "code",
   "execution_count": 79,
   "id": "d3ae009c",
   "metadata": {},
   "outputs": [],
   "source": [
    "df = pd.read_csv(\"IMDB Dataset.csv\")\n",
    "\n",
    "df['sentiment'] = df['sentiment'].apply(lambda x: f\"__label__{x}\")  # Example: \"positive\" -> \"__label__positive\"\n",
    "df = df[['sentiment', 'review']]\n",
    "df['review'] = df['review'].str.replace(\"<br /><br />\", \" \").str.replace('\\u200b', '').str.strip()\n",
    "df.to_csv(\"fasttext_train_temp.txt\", index=False, sep=\" \", header=False, escapechar=\" \", quoting=csv.QUOTE_NONE)\n",
    "\n",
    "with open(\"fasttext_train_temp.txt\", \"r\", encoding=\"utf-8\") as f:\n",
    "    lines = f.readlines()\n",
    "    \n",
    "cleaned_lines = []\n",
    "for line in lines:\n",
    "    line = line.replace(\"  \", \" \")\n",
    "    cleaned_lines.append(line)\n",
    "\n",
    "with open(\"fasttext_train.txt\", \"w\", encoding=\"utf-8\") as f:\n",
    "    f.writelines(cleaned_lines)"
   ]
  },
  {
   "cell_type": "code",
   "execution_count": 81,
   "id": "a4093f79",
   "metadata": {},
   "outputs": [],
   "source": [
    "import fasttext"
   ]
  },
  {
   "cell_type": "code",
   "execution_count": 82,
   "id": "8e0c9195",
   "metadata": {},
   "outputs": [],
   "source": [
    "model = fasttext.train_supervised('fasttext_train.txt')"
   ]
  },
  {
   "cell_type": "code",
   "execution_count": 83,
   "id": "23f5b1fc",
   "metadata": {},
   "outputs": [
    {
     "name": "stdout",
     "output_type": "stream",
     "text": [
      "['__label__negative', '__label__positive']\n"
     ]
    }
   ],
   "source": [
    "print(model.labels)"
   ]
  },
  {
   "cell_type": "code",
   "execution_count": 87,
   "id": "349656b6",
   "metadata": {},
   "outputs": [
    {
     "data": {
      "text/plain": [
       "(('__label__positive',), array([0.83848333]))"
      ]
     },
     "execution_count": 87,
     "metadata": {},
     "output_type": "execute_result"
    }
   ],
   "source": [
    "model.predict(\"Me (36F) and my husband (38M) have a daughter who will shortly turn 4. She usually stays once a week at my parent's place: she is very close to them and they like having her around. They are always very (too) willing to watch her and demand to spend time with her weekly whenever possible. We found an agreement that she would sleep at their place once a week, which I have to admit is also nice for us as it gives us some alone time. However I have to stress out that the primary reason is that my parents want to spend time with her and it's never an issue for us to do differently. This year the evening she's scheduled to spend with them is on the eve of her birthday. We have planned a big party for her the day after, with all her friends and also grandparents invited. I have asked my parents to refrain from celebrating early with her, as me and my husband would like to be with her when she blows her candles. My parents strongly disagree, they planned to go out for dinner with her and have a cake at the restaurant. I'm not comfortable with that and I said she won't go sleep with them if they can't do as we, the parents, ask. They've called us controlling and say we are hogging our daughter, that she can have a life outside of us... Am I the asshole?\")"
   ]
  },
  {
   "cell_type": "code",
   "execution_count": 162,
   "id": "317b01d9",
   "metadata": {},
   "outputs": [
    {
     "data": {
      "text/plain": [
       "(2621, 10)"
      ]
     },
     "execution_count": 162,
     "metadata": {},
     "output_type": "execute_result"
    }
   ],
   "source": [
    "with open('aita_data.json') as f:\n",
    "    raw_data = json.load(f)\n",
    "\n",
    "data = pd.json_normalize(raw_data['posts']).drop_duplicates()\n",
    "                            #meta=['selftext', 'gilded', 'title', 'upvote_ratio', 'ups', 'link_flair_text', 'created', 'num_comments', 'num_crossposts'])\n",
    "datatext = data['selftext'].apply(lambda x: x.strip())\n",
    "data.shape"
   ]
  },
  {
   "cell_type": "code",
   "execution_count": 163,
   "id": "f1bcfcb0",
   "metadata": {},
   "outputs": [],
   "source": [
    "datatext_sentiments = model.predict(datatext.tolist())"
   ]
  },
  {
   "cell_type": "code",
   "execution_count": 170,
   "id": "3333e1f8",
   "metadata": {},
   "outputs": [
    {
     "data": {
      "text/plain": [
       "0.5996931"
      ]
     },
     "execution_count": 170,
     "metadata": {},
     "output_type": "execute_result"
    }
   ],
   "source": [
    "datatext_sentiments\n",
    "#len(datatext.tolist())\n",
    "#len(data)\n",
    "datatext_sentiments[1][1][0]"
   ]
  },
  {
   "cell_type": "code",
   "execution_count": 173,
   "id": "580f0f72",
   "metadata": {},
   "outputs": [
    {
     "data": {
      "text/html": [
       "<div>\n",
       "<style scoped>\n",
       "    .dataframe tbody tr th:only-of-type {\n",
       "        vertical-align: middle;\n",
       "    }\n",
       "\n",
       "    .dataframe tbody tr th {\n",
       "        vertical-align: top;\n",
       "    }\n",
       "\n",
       "    .dataframe thead th {\n",
       "        text-align: right;\n",
       "    }\n",
       "</style>\n",
       "<table border=\"1\" class=\"dataframe\">\n",
       "  <thead>\n",
       "    <tr style=\"text-align: right;\">\n",
       "      <th></th>\n",
       "      <th>gilded</th>\n",
       "      <th>upvote_ratio</th>\n",
       "      <th>ups</th>\n",
       "      <th>link_flair_text</th>\n",
       "      <th>num_comments</th>\n",
       "      <th>num_crossposts</th>\n",
       "      <th>positive_confidence</th>\n",
       "    </tr>\n",
       "  </thead>\n",
       "  <tbody>\n",
       "    <tr>\n",
       "      <th>0</th>\n",
       "      <td>1</td>\n",
       "      <td>0.94</td>\n",
       "      <td>33790</td>\n",
       "      <td>1</td>\n",
       "      <td>12515</td>\n",
       "      <td>32</td>\n",
       "      <td>0.422833</td>\n",
       "    </tr>\n",
       "    <tr>\n",
       "      <th>1</th>\n",
       "      <td>0</td>\n",
       "      <td>0.87</td>\n",
       "      <td>16951</td>\n",
       "      <td>1</td>\n",
       "      <td>10310</td>\n",
       "      <td>4</td>\n",
       "      <td>0.400307</td>\n",
       "    </tr>\n",
       "    <tr>\n",
       "      <th>2</th>\n",
       "      <td>0</td>\n",
       "      <td>0.82</td>\n",
       "      <td>21460</td>\n",
       "      <td>1</td>\n",
       "      <td>9810</td>\n",
       "      <td>4</td>\n",
       "      <td>0.566761</td>\n",
       "    </tr>\n",
       "    <tr>\n",
       "      <th>3</th>\n",
       "      <td>0</td>\n",
       "      <td>0.90</td>\n",
       "      <td>15629</td>\n",
       "      <td>1</td>\n",
       "      <td>9295</td>\n",
       "      <td>5</td>\n",
       "      <td>0.067454</td>\n",
       "    </tr>\n",
       "    <tr>\n",
       "      <th>4</th>\n",
       "      <td>1</td>\n",
       "      <td>0.92</td>\n",
       "      <td>21312</td>\n",
       "      <td>1</td>\n",
       "      <td>9120</td>\n",
       "      <td>13</td>\n",
       "      <td>0.876348</td>\n",
       "    </tr>\n",
       "    <tr>\n",
       "      <th>5</th>\n",
       "      <td>0</td>\n",
       "      <td>0.85</td>\n",
       "      <td>23365</td>\n",
       "      <td>1</td>\n",
       "      <td>8984</td>\n",
       "      <td>6</td>\n",
       "      <td>0.081163</td>\n",
       "    </tr>\n",
       "    <tr>\n",
       "      <th>6</th>\n",
       "      <td>1</td>\n",
       "      <td>0.95</td>\n",
       "      <td>34205</td>\n",
       "      <td>1</td>\n",
       "      <td>8887</td>\n",
       "      <td>17</td>\n",
       "      <td>0.920430</td>\n",
       "    </tr>\n",
       "    <tr>\n",
       "      <th>7</th>\n",
       "      <td>3</td>\n",
       "      <td>0.84</td>\n",
       "      <td>40706</td>\n",
       "      <td>1</td>\n",
       "      <td>8811</td>\n",
       "      <td>6</td>\n",
       "      <td>0.195133</td>\n",
       "    </tr>\n",
       "    <tr>\n",
       "      <th>8</th>\n",
       "      <td>2</td>\n",
       "      <td>0.87</td>\n",
       "      <td>36219</td>\n",
       "      <td>1</td>\n",
       "      <td>8703</td>\n",
       "      <td>1</td>\n",
       "      <td>0.249120</td>\n",
       "    </tr>\n",
       "    <tr>\n",
       "      <th>9</th>\n",
       "      <td>0</td>\n",
       "      <td>0.97</td>\n",
       "      <td>17617</td>\n",
       "      <td>1</td>\n",
       "      <td>8701</td>\n",
       "      <td>7</td>\n",
       "      <td>0.358972</td>\n",
       "    </tr>\n",
       "  </tbody>\n",
       "</table>\n",
       "</div>"
      ],
      "text/plain": [
       "   gilded  upvote_ratio    ups  link_flair_text  num_comments  num_crossposts  \\\n",
       "0       1          0.94  33790                1         12515              32   \n",
       "1       0          0.87  16951                1         10310               4   \n",
       "2       0          0.82  21460                1          9810               4   \n",
       "3       0          0.90  15629                1          9295               5   \n",
       "4       1          0.92  21312                1          9120              13   \n",
       "5       0          0.85  23365                1          8984               6   \n",
       "6       1          0.95  34205                1          8887              17   \n",
       "7       3          0.84  40706                1          8811               6   \n",
       "8       2          0.87  36219                1          8703               1   \n",
       "9       0          0.97  17617                1          8701               7   \n",
       "\n",
       "   positive_confidence  \n",
       "0             0.422833  \n",
       "1             0.400307  \n",
       "2             0.566761  \n",
       "3             0.067454  \n",
       "4             0.876348  \n",
       "5             0.081163  \n",
       "6             0.920430  \n",
       "7             0.195133  \n",
       "8             0.249120  \n",
       "9             0.358972  "
      ]
     },
     "execution_count": 173,
     "metadata": {},
     "output_type": "execute_result"
    }
   ],
   "source": [
    "refined_data = data.drop(['selftext', 'title', 'created', 'url'], axis=1)\n",
    "refined_data['link_flair_text'] = refined_data['link_flair_text'].replace({'Asshole' : 0, 'Asshole POO Mode' : 0, 'Not the A-hole' : 1, 'Not the A-hole POO Mode' : 1})\n",
    "\n",
    "sentimentdata = []\n",
    "for i in range(len(data)):\n",
    "    if datatext_sentiments[0][i][0] == \"__label__positive\":\n",
    "        sentimentdata.append(datatext_sentiments[1][i][0])\n",
    "    else:\n",
    "        sentimentdata.append(1 - datatext_sentiments[1][i][0])\n",
    "    \n",
    "\n",
    "refined_data['positive_confidence'] = sentimentdata\n",
    "refined_data.head(10)"
   ]
  },
  {
   "cell_type": "code",
   "execution_count": 171,
   "id": "62883ac9",
   "metadata": {},
   "outputs": [
    {
     "data": {
      "text/plain": [
       "<AxesSubplot:>"
      ]
     },
     "execution_count": 171,
     "metadata": {},
     "output_type": "execute_result"
    },
    {
     "data": {
      "image/png": "[encoded data removed]",
      "text/plain": [
       "<Figure size 640x480 with 2 Axes>"
      ]
     },
     "metadata": {},
     "output_type": "display_data"
    }
   ],
   "source": [
    "sns.heatmap(refined_data.corr())"
   ]
  },
  {
   "cell_type": "code",
   "execution_count": 174,
   "id": "86ba7965",
   "metadata": {},
   "outputs": [],
   "source": [
    "X = refined_data.drop(['link_flair_text'], axis=1)\n",
    "y = refined_data['link_flair_text']"
   ]
  },
  {
   "cell_type": "code",
   "execution_count": 177,
   "id": "2a6c0d4b",
   "metadata": {},
   "outputs": [],
   "source": [
    "X_train, X_test, y_train, y_test = train_test_split(X, y, test_size=0.3, random_state=42)\n",
    "scaler = StandardScaler()\n",
    "X_train = scaler.fit_transform(X_train)\n",
    "X_test = scaler.transform(X_test)"
   ]
  },
  {
   "cell_type": "code",
   "execution_count": 180,
   "id": "fa5702d2",
   "metadata": {},
   "outputs": [
    {
     "name": "stdout",
     "output_type": "stream",
     "text": [
      "[[272  84]\n",
      " [ 83 348]]\n",
      "              precision    recall  f1-score   support\n",
      "\n",
      "           0       0.77      0.76      0.77       356\n",
      "           1       0.81      0.81      0.81       431\n",
      "\n",
      "    accuracy                           0.79       787\n",
      "   macro avg       0.79      0.79      0.79       787\n",
      "weighted avg       0.79      0.79      0.79       787\n",
      "\n"
     ]
    }
   ],
   "source": [
    "LR = LogisticRegression().fit(X_train, y_train)\n",
    "prediction = LR.predict(X_test)\n",
    "accuracy = accuracy_score(y_test, prediction)\n",
    "\n",
    "print(confusion_matrix(y_test, prediction))\n",
    "print(classification_report(y_test, prediction))"
   ]
  },
  {
   "cell_type": "code",
   "execution_count": 184,
   "id": "ca860f06",
   "metadata": {},
   "outputs": [
    {
     "name": "stdout",
     "output_type": "stream",
     "text": [
      "[[305  51]\n",
      " [ 62 369]]\n",
      "              precision    recall  f1-score   support\n",
      "\n",
      "           0       0.83      0.86      0.84       356\n",
      "           1       0.88      0.86      0.87       431\n",
      "\n",
      "    accuracy                           0.86       787\n",
      "   macro avg       0.85      0.86      0.86       787\n",
      "weighted avg       0.86      0.86      0.86       787\n",
      "\n"
     ]
    }
   ],
   "source": [
    "rf = RandomForestClassifier(max_depth=5, random_state=42).fit(X_train, y_train)\n",
    "prediction = rf.predict(X_test)\n",
    "accuracy = accuracy_score(y_test, prediction)\n",
    "\n",
    "print(confusion_matrix(y_test, prediction))\n",
    "print(classification_report(y_test, prediction))"
   ]
  },
  {
   "cell_type": "code",
   "execution_count": null,
   "id": "d95d1458",
   "metadata": {},
   "outputs": [],
   "source": []
  }
 ],
 "metadata": {
  "kernelspec": {
   "display_name": "Python 3 (ipykernel)",
   "language": "python",
   "name": "python3"
  },
  "language_info": {
   "codemirror_mode": {
    "name": "ipython",
    "version": 3
   },
   "file_extension": ".py",
   "mimetype": "text/x-python",
   "name": "python",
   "nbconvert_exporter": "python",
   "pygments_lexer": "ipython3",
   "version": "3.9.13"
  }
 },
 "nbformat": 4,
 "nbformat_minor": 5
}
