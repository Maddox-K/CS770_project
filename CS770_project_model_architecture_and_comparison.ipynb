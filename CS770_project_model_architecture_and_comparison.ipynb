{
 "cells": [
  {
   "cell_type": "markdown",
   "id": "7e6e19a2-c06a-431d-9f06-3e8b1de4b43e",
   "metadata": {},
   "source": [
    "CS770 Machine Learning Project: Bag of Tricks for Efficient Text Classification\n",
    "\n",
    "Sumbitted by Maddox Kafka H268R726\n",
    "\n",
    "\n",
    "This file contains the implementation, training, and testing of the proposed comparison model followed by the testing of the model implemented by the original paper, using its official Python library.\n",
    "\n",
    "If you are interested in seeing how the Reddit data was scraped or how the FastText corpora were formatted, see https://github.com/Maddox-K/CS770_project"
   ]
  },
  {
   "cell_type": "code",
   "execution_count": 1,
   "id": "19cf7674",
   "metadata": {},
   "outputs": [],
   "source": [
    "import pandas as pd\n",
    "import numpy as np\n",
    "import time\n",
    "import pickle\n",
    "import fasttext\n",
    "import csv\n",
    "import json\n",
    "import seaborn as sns\n",
    "\n",
    "from scipy import stats\n",
    "\n",
    "import matplotlib\n",
    "import matplotlib.pyplot as plt\n",
    "\n",
    "import statsmodels.api as sm\n",
    "\n",
    "from sklearn.model_selection import train_test_split, GridSearchCV\n",
    "from sklearn.svm import SVC, LinearSVC\n",
    "from sklearn.linear_model import LogisticRegression\n",
    "from sklearn.metrics import classification_report, confusion_matrix, accuracy_score, f1_score, precision_score, recall_score\n",
    "from sklearn.ensemble import RandomForestClassifier\n",
    "from sklearn.feature_extraction.text import TfidfVectorizer\n",
    "from sklearn.preprocessing import StandardScaler\n",
    "from sklearn.decomposition import TruncatedSVD\n",
    "\n",
    "%matplotlib inline"
   ]
  },
  {
   "cell_type": "markdown",
   "id": "d580fd90-0963-4dd9-9a93-46f6c5c580f6",
   "metadata": {},
   "source": [
    "<h1>Proposed Model Architecture</h1>"
   ]
  },
  {
   "cell_type": "markdown",
   "id": "1e5d3b59-7921-485a-b380-52149dd4d974",
   "metadata": {},
   "source": [
    "<h3>Feature Embeddings and Scaling</h3>"
   ]
  },
  {
   "cell_type": "code",
   "execution_count": 13,
   "id": "372baceb-adcf-4918-9f1c-ac8b7c3d9acf",
   "metadata": {},
   "outputs": [],
   "source": [
    "\"\"\"\n",
    "Step 1 of Model:\n",
    "Function to train the n-gram embeddings on the text data\n",
    "Takes in eight parameters: the dataset, the list with which to append recorded training times, and the train-test-validation split sets of the data\n",
    "As a form of hyperparameter tuning, three n-gram ranges are tried, a small range of 1-2 characters, a set small amount of exactly 2 characters only,\n",
    "and a wider range of 3-6 characters\n",
    "Each dataset will choose the n-gram range that results in the most accurate classification\n",
    "\n",
    "SVD compresses sparse vector spaces into 200-length vectors\n",
    "Preliminary testing indicated diminishing returns on accuracy after this 200 point\n",
    "\n",
    "Minumum number of occurrences required to be considered part of the corpus vocabulary is set to 10\n",
    "This amount generalizes well to many datasets while acting as a preliminary form of feature selection\n",
    "\n",
    "Random state of 42 is used for reproducible results\n",
    "\"\"\"\n",
    "\n",
    "def train_embeddings(dataset, times_list, X_train, X_test, X_tune, y_train, y_test, y_tune):\n",
    "    for i in range(3):\n",
    "        match i:\n",
    "            case 0:\n",
    "                ngram = (1,2)\n",
    "            case 1:\n",
    "                ngram = (2,2)\n",
    "            case 2:\n",
    "                ngram = (3,6)\n",
    "\n",
    "        # record start time of data training model\n",
    "        start_time = time.perf_counter()\n",
    "\n",
    "        # tfidf vectorizer using character n-grams (with bounds), various n-gram ranges, and keep features in vocab that appear at least 10 times\n",
    "        vectorizer = TfidfVectorizer(analyzer='char_wb', ngram_range=ngram, min_df=10)\n",
    "        X_train_vectors = vectorizer.fit_transform(X_train)\n",
    "        X_test_vectors = vectorizer.transform(X_test)\n",
    "        X_tune_vectors = vectorizer.transform(X_tune)\n",
    "    \n",
    "        # dimensionality reduction of sparce vectors from vectorization\n",
    "        # convert sparse vectors into dense n-gram embedding vectors\n",
    "        # somewhat of an imitation of fasttext's word embedding hidden layer\n",
    "        svd = TruncatedSVD(n_components=200, random_state=42)\n",
    "        X_train_dense = svd.fit_transform(X_train_vectors)\n",
    "        X_test_dense = svd.transform(X_test_vectors)\n",
    "        X_tune_dense = svd.transform(X_tune_vectors)\n",
    "\n",
    "        # scale resulting data\n",
    "        # normalization of input is done using sklearn's Standard Scaler, which uses Z-score normalization to make data follow more of a normal distribution\n",
    "        # this is a requirement for effective use of the classifier functions\n",
    "        scaler = StandardScaler()\n",
    "        X_train_scaled = scaler.fit_transform(X_train_dense)\n",
    "        X_test_scaled = scaler.transform(X_test_dense)\n",
    "        X_tune_scaled = scaler.transform(X_tune_dense)\n",
    "\n",
    "        # get total time taken to train and scale\n",
    "        end_time = time.perf_counter()\n",
    "        initial_elapsed_time = end_time - start_time\n",
    "        times_list.append(initial_elapsed_time)\n",
    "\n",
    "        print(f\"Time Taken to Embed and Scale {ngram} ngram Features:\")\n",
    "        print(str(initial_elapsed_time) + \" Seconds\")\n",
    "\n",
    "        # save embedding vectors so that they can be retrieved later without retraining if needed\n",
    "        np.savez(f\"{dataset}_data/{dataset}_embeddings{i}.npz\", train=X_train_scaled, test=X_test_scaled, tune=X_tune_scaled, ytrain=y_train, ytest=y_test, ytune=y_tune)"
   ]
  },
  {
   "cell_type": "markdown",
   "id": "2addb286-4542-4d38-9eba-182ae617bcc6",
   "metadata": {},
   "source": [
    "<h3>Classifier Models</h3>"
   ]
  },
  {
   "cell_type": "code",
   "execution_count": 15,
   "id": "7a41c4f3-f5f6-4934-b686-cf53217eb315",
   "metadata": {},
   "outputs": [],
   "source": [
    "\"\"\"\n",
    "Logistic Regression function\n",
    "takes in train, test, validation splits of dataset and trains a series of LR models, each using a different regularization term\n",
    "10 total hyperparameter values are tried\n",
    "function uses the best found C hyperparameter value and trains the final model iteration using that parameter\n",
    "\n",
    "SAGA solver is used as it converges much more quickly (and effectively) on larger datasets\n",
    "\"\"\"\n",
    "\n",
    "def train_lr(xtrain, ytrain, xtest, ytest, xtune, ytune):\n",
    "    c_scores = []\n",
    "    c_values = np.logspace(-3, 1, num=10) # try evenly-spaced values on the range [10^-3, 10^1]\n",
    "    if ytrain.dtype == 'object':\n",
    "        label = 'positive'\n",
    "    else:\n",
    "        label = 1\n",
    "    \n",
    "    for c in c_values: # try a model for each C value\n",
    "        LR = LogisticRegression(C=c, solver='saga', max_iter=1000, random_state=42, n_jobs=-1)\n",
    "        LR.fit(xtrain, ytrain)\n",
    "        prediction = LR.predict(xtune)\n",
    "        c_scores.append(f1_score(ytune, prediction, pos_label=label))\n",
    "    arg = np.argmax(c_scores)\n",
    "    optimal_c = c_values[arg]\n",
    "\n",
    "    LR = LogisticRegression(C=optimal_c, solver='saga', max_iter=1000, random_state=42, n_jobs=-1) # train model using tuned C value\n",
    "    LR.fit(xtrain, ytrain)\n",
    "    prediction = LR.predict(xtest)\n",
    "\n",
    "    # return the set of model predictions and the tuned hyperparameter value\n",
    "    return prediction, optimal_c"
   ]
  },
  {
   "cell_type": "code",
   "execution_count": 17,
   "id": "4464d46a-95d1-46c0-bd86-a011e124703f",
   "metadata": {},
   "outputs": [],
   "source": [
    "\"\"\"\n",
    "Support Vector Machine Function\n",
    "Takes in same parameters as logistic regression function\n",
    "\n",
    "Implements hyperparameter tuning by trying different C (inverse regularization) values\n",
    "Tries values from the set {.001, .01, .1, 1}\n",
    "\n",
    "LinearSVC function is used as it tends to perform better on larger datasets\n",
    "loss is set to hinge, as this is the typical loss function that SVM uses\n",
    "\n",
    "convergence tolerance is set to be higher than normal due to convergence issues on the larger dataset\n",
    "Number of iterations generally works at many values, but value is set to 14000 to ensure convergence no matter what dataset is input into the classifier\n",
    "\"\"\"\n",
    "\n",
    "def train_svm(xtrain, ytrain, xtest, ytest, xtune, ytune):\n",
    "    c_values = [.001, .01, .1, 1] # C values to try\n",
    "    c_scores = []\n",
    "    if ytrain.dtype == 'object':\n",
    "        label = 'positive'\n",
    "    else:\n",
    "        label = 1\n",
    "\n",
    "    for c in c_values:\n",
    "        svc = LinearSVC(loss='hinge', C=c, max_iter=14000, tol=1e-1, random_state=42) # train series of models using different C values\n",
    "        svc.fit(xtrain, ytrain)\n",
    "        prediction = svc.predict(xtune)\n",
    "        c_scores.append(f1_score(ytune, prediction, pos_label=label))\n",
    "    arg = np.argmax(c_scores)\n",
    "    optimal_c = c_values[arg]\n",
    "\n",
    "    svc = LinearSVC(loss='hinge', C=optimal_c, max_iter=14000, tol=1e-2, random_state=42)\n",
    "    svc.fit(xtrain, ytrain)\n",
    "    prediction = svc.predict(xtest)\n",
    "\n",
    "    return prediction, optimal_c"
   ]
  },
  {
   "cell_type": "code",
   "execution_count": 19,
   "id": "a7a02537-dcd9-4ec7-a946-ca30d0f4cd15",
   "metadata": {},
   "outputs": [],
   "source": [
    "\"\"\"\n",
    "Random Forest Classifier Function\n",
    "\n",
    "implements some level of hyperparameter tuning by testing different splitting criteria for the nodes of the trees\n",
    "Number of tress in the forest is left as the default value to due preliminary tests indicating drastically diminishing returns on the number of trees\n",
    "\n",
    "Generally takes longer to train than the classifiers above due to the complexity of the model\n",
    "\"\"\"\n",
    "\n",
    "def train_forest(xtrain, ytrain, xtest, ytest, xtune, ytune):\n",
    "    criteria = ['gini', 'entropy', 'log_loss'] # splitting criteria to try\n",
    "    crit_scores = []\n",
    "    if ytrain.dtype == 'object':\n",
    "        label = 'positive'\n",
    "    else:\n",
    "        label = 1\n",
    "\n",
    "    for criterion in criteria:\n",
    "        forest_clf = RandomForestClassifier(criterion=criterion, random_state=42)\n",
    "        forest_clf.fit(xtrain, ytrain)\n",
    "        prediction = forest_clf.predict(xtune)\n",
    "        crit_scores.append(f1_score(ytune, prediction, pos_label=label))\n",
    "    arg = np.argmax(crit_scores)\n",
    "    optimal_crit = criteria[arg]\n",
    "\n",
    "    forest = RandomForestClassifier(criterion=optimal_crit, random_state=42)\n",
    "    forest.fit(xtrain, ytrain)\n",
    "    prediction = forest.predict(xtest)\n",
    "\n",
    "    return prediction, optimal_crit"
   ]
  },
  {
   "cell_type": "markdown",
   "id": "bd6bc71e-9363-4ce3-867e-5adeb2ccfebe",
   "metadata": {},
   "source": [
    "<h1>IMDB Classification</h1>"
   ]
  },
  {
   "cell_type": "code",
   "execution_count": 56,
   "id": "ce54875e-023c-442d-b580-883d541c95ec",
   "metadata": {},
   "outputs": [],
   "source": [
    "# initialize lists of training times for IMDB set\n",
    "imdb_embedding_times = []\n",
    "imdb_classifier_times = []\n",
    "\n",
    "# initialize lists of model evaluation metrics for IMDB set\n",
    "imdb_accs = []\n",
    "imdb_scores = []\n",
    "imdb_precs = []\n",
    "imdb_recs = []"
   ]
  },
  {
   "cell_type": "code",
   "execution_count": 115,
   "id": "b63bf417",
   "metadata": {},
   "outputs": [
    {
     "name": "stdout",
     "output_type": "stream",
     "text": [
      "IMDB Dataset Shape:\n",
      "(50000, 2) \n",
      "\n",
      "Number of Positive Reviews: 25000\n",
      "Number of Negative Reviews: 25000\n"
     ]
    },
    {
     "data": {
      "image/png": "[encoded data removed]",
      "text/plain": [
       "<Figure size 640x480 with 1 Axes>"
      ]
     },
     "metadata": {},
     "output_type": "display_data"
    }
   ],
   "source": [
    "df = pd.read_csv(\"C:/Users/atobo/CS770_data/project_data/imdb_data/IMDB Dataset.csv\")\n",
    "\n",
    "# clean review text data by removing html break tags and removing unicode characters\n",
    "df['review'] = df['review'].str.replace(\"<br /><br />\", \" \").str.replace('\\u200b', '').str.strip()\n",
    "\n",
    "# X contains text contents of reviews, y contains labeled reivew sentiment\n",
    "X = df['review']\n",
    "y = df['sentiment']\n",
    "\n",
    "# split the data into training, testing and validation data\n",
    "X_train, X_temp, y_train, y_temp = train_test_split(X, y, test_size=0.3, random_state=42, stratify=y)\n",
    "X_test, X_tune, y_test, y_tune = train_test_split(X_temp, y_temp, test_size=0.333, random_state=42, stratify=y_temp)\n",
    "\n",
    "\n",
    "# EDA: get information such as the number of samples in the set as well as the number of samples from each class\n",
    "print(\"IMDB Dataset Shape:\")\n",
    "print(df.shape, \"\\n\")\n",
    "print(\"Number of Positive Reviews:\", df[df['sentiment'] == 'positive'].shape[0])\n",
    "print(\"Number of Negative Reviews:\", df[df['sentiment'] == 'negative'].shape[0])\n",
    "\n",
    "sns.countplot(x='sentiment', data=df)\n",
    "plt.title(' Review Class Distribution')\n",
    "plt.xlabel('Review Sentiment')\n",
    "plt.ylabel('Count')\n",
    "plt.show()"
   ]
  },
  {
   "cell_type": "code",
   "execution_count": 145,
   "id": "434fd649-2a32-4181-be04-97f49a1cd1c0",
   "metadata": {},
   "outputs": [
    {
     "name": "stdout",
     "output_type": "stream",
     "text": [
      "Example of a Positive Review:\n",
      "Wes Craven has been created a most successful killer-thriller movies of all time. After watching he's movies, you will find your new fears. People don't know, which Wes Craven's thriller movie is the best, because they all different. In this movie, Lisa is terrorize by fellow-traveler. He coercible her to kill and if she don't do this, Jack will kill her father. Lisa is in the huge mess, because whatever she choose, she will kill. Acting was unreal. Rachel McAdams and Cillian Murphy acted unbelievable good. The emotions was in right choose. Idea and script of this movie is great too... Sometimes it reminds a \"Scream\", but he definitely better, than both \"Screams\" sequels together. And what can I say - this is the best killer-thriller movie in 21's century yet...\n",
      "\n",
      "Example of a Negative Review:\n",
      "The video quality is awful. The sound quality is pathetic. The acting is horrific. The dialog is painful. The lighting is dismal. The editing is laughable. I could go on, but it would be pointless. Snitch'd is a third rate amateur video being passed off as a feature film. This one is best left to collect dust in the video store bargain bin.\n"
     ]
    }
   ],
   "source": [
    "# To further explore and get a feel for the data, get a sample from each of the classes\n",
    "print(\"Example of a Positive Review:\")\n",
    "print(df[df['sentiment'] == 'positive'].sample(1)['review'].values[0])\n",
    "\n",
    "print(\"\\nExample of a Negative Review:\")\n",
    "print(df[df['sentiment'] == 'negative'].sample(1)['review'].values[0])"
   ]
  },
  {
   "cell_type": "code",
   "execution_count": 19,
   "id": "21d2167c-b654-40ab-9155-297548201dab",
   "metadata": {},
   "outputs": [
    {
     "name": "stdout",
     "output_type": "stream",
     "text": [
      "Time Taken to Embed and Scale (1, 2) ngram Features:\n",
      "86.43052510000416 Seconds\n",
      "Time Taken to Embed and Scale (2, 2) ngram Features:\n",
      "54.62497939998866 Seconds\n",
      "Time Taken to Embed and Scale (3, 6) ngram Features:\n",
      "406.8610189000028 Seconds\n"
     ]
    }
   ],
   "source": [
    "# call embedding training function on IMDB data\n",
    "train_embeddings('imdb', imdb_embedding_times, X_train, X_test, X_tune, y_train, y_test, y_tune)"
   ]
  },
  {
   "cell_type": "code",
   "execution_count": 25,
   "id": "00338532-a1eb-4767-821a-558eddfe2375",
   "metadata": {},
   "outputs": [],
   "source": [
    "# save embedding times using Python Pickle\n",
    "with open('imdb_data/imdb_embedding_times.pkl', 'wb') as f:\n",
    "    pickle.dump(imdb_embedding_times, f)\n",
    "f.close()"
   ]
  },
  {
   "cell_type": "code",
   "execution_count": 58,
   "id": "7f87a299",
   "metadata": {},
   "outputs": [],
   "source": [
    "\"\"\"\n",
    "Determine best n-gram value for IMDB dataset based on performances of Logistic Regression models\n",
    "\n",
    "Train logistic regression model for IMDB dataset and save model\n",
    "\"\"\"\n",
    "\n",
    "temp_predictions = []\n",
    "temp_params = []\n",
    "temp_scores = []\n",
    "temp_times = []\n",
    "ngram_values = [(1,2), (2,2), (3,6)]\n",
    "\n",
    "for i in range(3):\n",
    "    vectors = np.load(f\"imdb_data/imdb_embeddings{i}.npz\", allow_pickle=True)\n",
    "    start_time = time.perf_counter()\n",
    "    prediction, c_param = train_lr(vectors[\"train\"], vectors[\"ytrain\"], vectors[\"test\"], vectors[\"ytest\"], vectors[\"tune\"], vectors[\"ytune\"])\n",
    "    end_time = time.perf_counter()\n",
    "    temp_predictions.append(prediction)\n",
    "    temp_params.append(c_param)\n",
    "    total_time = end_time - start_time\n",
    "    temp_times.append(total_time)\n",
    "    f_one = f1_score(vectors[\"ytest\"], prediction, pos_label='positive')\n",
    "    temp_scores.append(f_one)\n",
    "\n",
    "best_imdb_lr = temp_predictions[np.argmax(temp_scores)]\n",
    "best_c = temp_params[np.argmax(temp_scores)]\n",
    "best_ngram = ngram_values[np.argmax(temp_scores)]\n",
    "time_taken = temp_times[np.argmax(temp_scores)]\n",
    "\n",
    "ytest = vectors[\"ytest\"]\n",
    "acc = accuracy_score(ytest, best_imdb_lr)\n",
    "f1 = f1_score(ytest, best_imdb_lr, pos_label='positive')\n",
    "prec = precision_score(ytest, best_imdb_lr, pos_label='positive')\n",
    "rec = recall_score(ytest, best_imdb_lr, pos_label='positive')\n",
    "imdb_classifier_times.append(time_taken)\n",
    "imdb_accs.append(acc)\n",
    "imdb_scores.append(f1)\n",
    "imdb_precs.append(prec)\n",
    "imdb_recs.append(rec)\n",
    "\n",
    "imdb_lr = {'predictions': best_imdb_lr, 'c_value': best_c, 'best_ngram': best_ngram}\n",
    "with open('imdb_data/imdb_lr.pkl', 'wb') as f:\n",
    "    pickle.dump(imdb_lr, f)\n",
    "f.close()"
   ]
  },
  {
   "cell_type": "code",
   "execution_count": 60,
   "id": "5f94baa3-0bcd-4516-8777-d4bd3d7b255a",
   "metadata": {},
   "outputs": [
    {
     "name": "stdout",
     "output_type": "stream",
     "text": [
      "Best n-gram Range to Use for IMDB Dataset: (3, 6)\n",
      "\n",
      "Tuned Logstic Regression C Value: 0.007742636826811269\n",
      "\n",
      "[[4314  688]\n",
      " [ 638 4365]] \n",
      "\n",
      "              precision    recall  f1-score   support\n",
      "\n",
      "    negative       0.87      0.86      0.87      5002\n",
      "    positive       0.86      0.87      0.87      5003\n",
      "\n",
      "    accuracy                           0.87     10005\n",
      "   macro avg       0.87      0.87      0.87     10005\n",
      "weighted avg       0.87      0.87      0.87     10005\n",
      "\n"
     ]
    }
   ],
   "source": [
    "print(f\"Best n-gram Range to Use for IMDB Dataset: {best_ngram}\\n\")\n",
    "print(f\"Tuned Logstic Regression C Value: {best_c}\\n\")\n",
    "print(confusion_matrix(ytest, best_imdb_lr), \"\\n\")\n",
    "print(classification_report(ytest, best_imdb_lr))"
   ]
  },
  {
   "cell_type": "code",
   "execution_count": 72,
   "id": "efb6d8cf-e3a9-4c95-805e-7c496f926188",
   "metadata": {},
   "outputs": [],
   "source": [
    "\"\"\"\n",
    "Train SVM classification model on IMDB dataset\n",
    "Assume that best n-gram range determined above applies for all classifiers (including this one)\n",
    "\"\"\"\n",
    "\n",
    "vectors = np.load(f\"imdb_data/imdb_embeddings2.npz\", allow_pickle=True) # use embeddidngs based on \"best\" n-gram range\n",
    "start_time = time.perf_counter()\n",
    "prediction, c_param = train_svm(vectors[\"train\"], vectors[\"ytrain\"], vectors[\"test\"], vectors[\"ytest\"], vectors[\"tune\"], vectors[\"ytune\"])\n",
    "end_time = time.perf_counter()\n",
    "total_time = end_time - start_time\n",
    "\n",
    "ytest = vectors[\"ytest\"]\n",
    "acc = accuracy_score(ytest, prediction)\n",
    "f1 = f1_score(ytest, prediction, pos_label='positive')\n",
    "prec = precision_score(ytest, prediction, pos_label='positive')\n",
    "rec = recall_score(ytest, prediction, pos_label='positive')\n",
    "imdb_classifier_times.append(total_time)\n",
    "imdb_accs.append(acc)\n",
    "imdb_scores.append(f1)\n",
    "imdb_precs.append(prec)\n",
    "imdb_recs.append(rec)\n",
    "\n",
    "imdb_svm = {'predictions': prediction, 'c_value': c_param}\n",
    "with open('imdb_data/imdb_svm.pkl', 'wb') as f:\n",
    "    pickle.dump(imdb_svm, f)\n",
    "f.close()"
   ]
  },
  {
   "cell_type": "code",
   "execution_count": 74,
   "id": "dcf1cf40-972b-4692-ab79-b71fa5a37d69",
   "metadata": {},
   "outputs": [
    {
     "name": "stdout",
     "output_type": "stream",
     "text": [
      "Tuned SVM C Value: 0.001\n",
      "\n",
      "[[4282  720]\n",
      " [ 622 4381]] \n",
      "\n",
      "              precision    recall  f1-score   support\n",
      "\n",
      "    negative       0.87      0.86      0.86      5002\n",
      "    positive       0.86      0.88      0.87      5003\n",
      "\n",
      "    accuracy                           0.87     10005\n",
      "   macro avg       0.87      0.87      0.87     10005\n",
      "weighted avg       0.87      0.87      0.87     10005\n",
      "\n"
     ]
    }
   ],
   "source": [
    "print(f\"Tuned SVM C Value: {c_param}\\n\")\n",
    "print(confusion_matrix(ytest, prediction), \"\\n\")\n",
    "print(classification_report(ytest, prediction))"
   ]
  },
  {
   "cell_type": "code",
   "execution_count": 84,
   "id": "2a7fba62-8764-49e6-a5d6-9963df68452c",
   "metadata": {},
   "outputs": [],
   "source": [
    "# train random forest classifier on IMDB dataset\n",
    "\n",
    "vectors = np.load(f\"imdb_data/imdb_embeddings2.npz\", allow_pickle=True)\n",
    "start_time = time.perf_counter()\n",
    "prediction, crit = train_forest(vectors[\"train\"], vectors[\"ytrain\"], vectors[\"test\"], vectors[\"ytest\"], vectors[\"tune\"], vectors[\"ytune\"])\n",
    "end_time = time.perf_counter()\n",
    "total_time = end_time - start_time\n",
    "\n",
    "ytest = vectors[\"ytest\"]\n",
    "acc = accuracy_score(ytest, prediction)\n",
    "f1 = f1_score(ytest, prediction, pos_label='positive')\n",
    "prec = precision_score(ytest, prediction, pos_label='positive')\n",
    "rec = recall_score(ytest, prediction, pos_label='positive')\n",
    "imdb_classifier_times.append(total_time)\n",
    "imdb_accs.append(acc)\n",
    "imdb_scores.append(f1)\n",
    "imdb_precs.append(prec)\n",
    "imdb_recs.append(rec)\n",
    "\n",
    "imdb_forest = {'predictions': prediction, 'criterion': crit}\n",
    "with open('imdb_data/imdb_forest.pkl', 'wb') as f:\n",
    "    pickle.dump(imdb_forest, f)\n",
    "f.close()"
   ]
  },
  {
   "cell_type": "code",
   "execution_count": 86,
   "id": "44e01bd8-013a-44f9-bea6-f0df938d4817",
   "metadata": {},
   "outputs": [
    {
     "name": "stdout",
     "output_type": "stream",
     "text": [
      "Tuned Random Forest Splitting Criterion: gini\n",
      "\n",
      "[[4049  953]\n",
      " [ 970 4033]] \n",
      "\n",
      "              precision    recall  f1-score   support\n",
      "\n",
      "    negative       0.81      0.81      0.81      5002\n",
      "    positive       0.81      0.81      0.81      5003\n",
      "\n",
      "    accuracy                           0.81     10005\n",
      "   macro avg       0.81      0.81      0.81     10005\n",
      "weighted avg       0.81      0.81      0.81     10005\n",
      "\n"
     ]
    }
   ],
   "source": [
    "print(f\"Tuned Random Forest Splitting Criterion: {crit}\\n\")\n",
    "print(confusion_matrix(ytest, prediction), \"\\n\")\n",
    "print(classification_report(ytest, prediction))"
   ]
  },
  {
   "cell_type": "code",
   "execution_count": 88,
   "id": "dbc3c9f2-3cfc-4975-b18b-be9bf0a57add",
   "metadata": {},
   "outputs": [],
   "source": [
    "# save evaluation metrics for each IMDB classifier as a dictionary using Python Pickle\n",
    "\n",
    "imdb_classifier_stats = {'times': imdb_classifier_times, 'accuracies': imdb_accs, 'scores': imdb_scores, 'precisions': imdb_precs, 'recalls': imdb_recs}\n",
    "\n",
    "with open('imdb_data/imdb_classifier_stats.pkl', 'wb') as f:\n",
    "    pickle.dump(imdb_classifier_stats, f)\n",
    "f.close()"
   ]
  },
  {
   "cell_type": "code",
   "execution_count": 31,
   "id": "65b2303c-653b-49f5-a158-37f9a250d985",
   "metadata": {},
   "outputs": [
    {
     "data": {
      "image/png": "[encoded data removed]",
      "text/plain": [
       "<Figure size 500x400 with 1 Axes>"
      ]
     },
     "metadata": {},
     "output_type": "display_data"
    },
    {
     "data": {
      "image/png": "[encoded data removed]",
      "text/plain": [
       "<Figure size 500x400 with 1 Axes>"
      ]
     },
     "metadata": {},
     "output_type": "display_data"
    },
    {
     "name": "stdout",
     "output_type": "stream",
     "text": [
      "\n",
      "Time Taken to Train Model with Highest F1 Score:\n",
      "20.21338690002449\n",
      "\n",
      "Total Time Including Embeddings:\n",
      "427.0744058000273\n"
     ]
    }
   ],
   "source": [
    "\"\"\"\n",
    "Model Comparisons and evaluation\n",
    "Load model stats from filesystem and compare using bar charts\n",
    "\n",
    "The main metrics we care about are accuracy and F1 score, so those are charted below\n",
    "\n",
    "Finally, determine which classifier works best for the dataset (based on F1 score) and get the total time taken to train the model\n",
    "\"\"\"\n",
    "\n",
    "with open('imdb_data/imdb_classifier_stats.pkl', 'rb') as f:\n",
    "    imdb_classifier_stats = pickle.load(f)\n",
    "f.close()\n",
    "with open('imdb_data/imdb_embedding_times.pkl', 'rb') as f:\n",
    "    imdb_embedding_times = pickle.load(f)\n",
    "f.close()\n",
    "\n",
    "imdb_classifier_times = imdb_classifier_stats['times']\n",
    "\n",
    "imdb_accs = imdb_classifier_stats['accuracies']\n",
    "imdb_scores = imdb_classifier_stats['scores']\n",
    "imdb_precs = imdb_classifier_stats['precisions']\n",
    "imdb_recs = imdb_classifier_stats['recalls']\n",
    "\n",
    "models = ['Logistic Regression', 'SVM', 'Random Forest']\n",
    "colors = ['r', 'dodgerblue', 'blueviolet']\n",
    "\n",
    "fig, ax = plt.subplots(figsize=(5, 4))\n",
    "bars = ax.bar(models, imdb_accs, color=colors)\n",
    "ax.bar_label(bars)\n",
    "plt.title(\"IMDB Classifier Model Accuracies\")\n",
    "plt.xticks(rotation=90)\n",
    "plt.show()\n",
    "\n",
    "fig, ax = plt.subplots(figsize=(5, 4))\n",
    "bars = ax.bar(models, imdb_scores, color=colors)\n",
    "ax.bar_label(bars)\n",
    "plt.title(\"IMDB Classifier Model F1 Scores\")\n",
    "plt.xticks(rotation=90)\n",
    "plt.show()\n",
    "\n",
    "print(\"\\nTime Taken to Train Model with Highest F1 Score:\")\n",
    "print(str(imdb_classifier_times[np.argmax(imdb_scores)]))\n",
    "print(\"\\nTotal Time Including Embeddings:\")\n",
    "print(str(imdb_classifier_times[np.argmax(imdb_scores)] + imdb_embedding_times[2]))"
   ]
  },
  {
   "cell_type": "markdown",
   "id": "2b94043a-aa45-4a6b-88a5-03f7df31146b",
   "metadata": {},
   "source": [
    "<h1>Reddit \"AITA\" Classification</h1>"
   ]
  },
  {
   "cell_type": "code",
   "execution_count": 7,
   "id": "f83705dc",
   "metadata": {},
   "outputs": [],
   "source": [
    "# initialize lists of Reddit training times\n",
    "reddit_embedding_times = []\n",
    "reddit_classifier_times = []\n",
    "\n",
    "# initialize lists of Reddit model evaluation metrics\n",
    "reddit_accs = []\n",
    "reddit_scores = []\n",
    "reddit_precs = []\n",
    "reddit_recs = []"
   ]
  },
  {
   "cell_type": "code",
   "execution_count": 147,
   "id": "c4c2ae95-a3e3-4d38-acf1-d2e062da4c77",
   "metadata": {},
   "outputs": [
    {
     "name": "stdout",
     "output_type": "stream",
     "text": [
      "Reddit Dataset Shape:\n",
      "(2621, 2) \n",
      "\n",
      "Number of NTA Verdicts: 1412\n",
      "Number of YTA Verdicts: 1209\n"
     ]
    },
    {
     "name": "stderr",
     "output_type": "stream",
     "text": [
      "C:\\Users\\atobo\\AppData\\Local\\Temp\\ipykernel_15432\\3333531853.py:19: FutureWarning: Downcasting behavior in `replace` is deprecated and will be removed in a future version. To retain the old behavior, explicitly call `result.infer_objects(copy=False)`. To opt-in to the future behavior, set `pd.set_option('future.no_silent_downcasting', True)`\n",
      "  data['verdict'] = data['verdict'].replace({'Asshole' : 1, 'Asshole POO Mode' : 1, 'Not the A-hole' : 0, 'Not the A-hole POO Mode' : 0})\n"
     ]
    },
    {
     "data": {
      "image/png": "[encoded data removed]",
      "text/plain": [
       "<Figure size 640x480 with 1 Axes>"
      ]
     },
     "metadata": {},
     "output_type": "display_data"
    },
    {
     "name": "stdout",
     "output_type": "stream",
     "text": [
      "Reddit Dataset Shape After Undersampling:\n",
      "(2418, 2) \n",
      "\n",
      "Number of NTA Verdicts: 1209\n",
      "Number of YTA Verdicts: 1209\n"
     ]
    }
   ],
   "source": [
    "\"\"\"\n",
    "Load scraped Reddit data from JSON file and explore dataset\n",
    "Raw data JSON contains many features, but for the purposes of text classificatoin evaluation we only care about the actual textual content of the posts\n",
    "and their respective labels (YTA or NTA)\n",
    "\"\"\"\n",
    "\n",
    "# load json file containing reddit post data\n",
    "with open('reddit_data/aita_data.json') as f:\n",
    "    raw_data = json.load(f)\n",
    "\n",
    "# get posts as a dataframe\n",
    "data = pd.json_normalize(raw_data['posts']).drop_duplicates()\n",
    "\n",
    "data = data[['selftext', 'link_flair_text']]\n",
    "data = data.rename(columns={'selftext': 'content', 'link_flair_text': 'verdict'})\n",
    "data['content'] = data['content'].apply(lambda x: x.strip()) # clean leading and trailing spaces by stripping column strings\n",
    "\n",
    "# convert verdicts into either 0 (nta), or 1 (yta)\n",
    "data['verdict'] = data['verdict'].replace({'Asshole' : 1, 'Asshole POO Mode' : 1, 'Not the A-hole' : 0, 'Not the A-hole POO Mode' : 0})\n",
    "\n",
    "print(\"Reddit Dataset Shape:\")\n",
    "print(data.shape, \"\\n\")\n",
    "print(\"Number of NTA Verdicts:\", data[data['verdict'] == 0].shape[0])\n",
    "print(\"Number of YTA Verdicts:\", data[data['verdict'] == 1].shape[0])\n",
    "\n",
    "ax = sns.countplot(x='verdict', data=data)\n",
    "ax.set_xticks([0,1])\n",
    "ax.set_xticklabels(['NTA', 'YTA'])\n",
    "plt.title('Reddit AITA Class Distribution')\n",
    "plt.xlabel('Reddit Verdict')\n",
    "plt.ylabel('Count')\n",
    "plt.show()\n",
    "\n",
    "yta = data.drop(data[data['verdict'] == 0].index.values)\n",
    "nta = data.drop(data[data['verdict'] == 1].index.values)\n",
    "nta2 = nta.sample(1209, random_state=42)\n",
    "\n",
    "rejoined = []\n",
    "rejoined.append(yta)\n",
    "rejoined.append(nta2)\n",
    "\n",
    "data = pd.concat(rejoined)\n",
    "data = data.reset_index(drop=True)\n",
    "\n",
    "print(\"Reddit Dataset Shape After Undersampling:\")\n",
    "print(data.shape, \"\\n\")\n",
    "print(\"Number of NTA Verdicts:\", data[data['verdict'] == 0].shape[0])\n",
    "print(\"Number of YTA Verdicts:\", data[data['verdict'] == 1].shape[0])\n",
    "\n",
    "X = data['content']\n",
    "y = data['verdict']\n",
    "\n",
    "# split the data into training, testing and validation data\n",
    "X_train, X_temp, y_train, y_temp = train_test_split(X, y, test_size=0.3, random_state=42, stratify=y)\n",
    "X_test, X_tune, y_test, y_tune = train_test_split(X_temp, y_temp, test_size=0.333, random_state=42, stratify=y_temp)"
   ]
  },
  {
   "cell_type": "code",
   "execution_count": 167,
   "id": "6f9a3d69-1fe9-41a4-95f6-aa7848ea1416",
   "metadata": {},
   "outputs": [
    {
     "name": "stdout",
     "output_type": "stream",
     "text": [
      "Example of a Person Who Is Deemed \"Not the Asshole\":\n",
      "I'm 20 years old, I moved out and cut contact with all my family other then my dad and my two brothers who had moved out years before this all, Now my aunt, who had stole money from me and my dad is asking me to give her a $2000 loan, I said no. And now my dad is getting a bunch of hate from all of my family about how I'm such an evil person for not giving my aunt money that I didn't know what she was going to use it for.. here's all that happened and why i cut contact and refuse to give her the money:  I had a house fire when I was 12, i lost my mother and brother in it,, the house that burnt down my parents didnt own that house, my aunt bought it, my parents paid rent plus all the bills, my aunt didnt get house insurance (WE THOUGHT SHE DID) so we got no money nor the Decision to keep the house up, During this time my dad was in surgery, so he was healing at the hospital  I went to go live with The aunt who had bought the house for us, That same aunt tried stealing me from my dad As in trying to get custody over me she lost, after my dad got out of the hospital we went and lived with a different aunt, we had my other other aunt start a gofund me, we raised alot of money but the aunt who started it stole most of the money from it, only giving my dad half, when we found out we moved from my other aunts house to an Apartment, we moved to a house we're I moved out, I'm in college I live in the Dormitory, So with All this being said, AITA? Edit: The reason why my dad hasn't cut ties is because he's worried it will backfire on him, and he wants our family to be able to ask him for help. the reason why my aunt came to me for money is because I was a rug (I let people walk all over me because i felt no self worth) when I was 12-18, and because I hadn't talked to her in two years she thought I'd still be easily manipulated and the same. Edit 2: My dad is telling me I either give her the money or he cuts contact with me? He's choosing his sister who stole from us rather than me, his only daughter. My older brothers are saying just cut him off and ignore him till he comes back to reality... I might have to give in on the money, I don't want to lose my dad... I don't have enough money, I'm thinking of working overtime at my job and selling some of my artwork... I'm not sure what to do.. I can't believe he's doing this because of family's family. I get that, but she's no family of mine, and I owe her nothing. Edit 3: I'm not giving in, I texted my dad telling him you need to come back to reality, your siding with a snake who stole from us after losing my mom and brother. Then I blocked him on everything.\n",
      "\n",
      "Example of a Person Who Is Deemed \"the Asshole\":\n",
      "My (23F) friend (23F) who I’ve known since freshman year of high school is currently pursuing music in LA. She is an incredible writer and went to a great private liberal arts school in California for writing, so many of us thought she would pursue songwriting as opposed to singing. She has released 3 songs and has an album on the way and they are just… bad. She’s got a horrible timbre, it’s flat and whiny with weird modulation in pitch. And she’s even worse live. All of her LA friends are gassing her up, telling her she is amazing and supporting her but I wonder to what extent it will hurt her in the future when someone in the industry finally says those words “you can’t sing.” I want to support her and her future but it’s tough to watch her actively and ambitiously pursue something she’s objectively bad at. Would it be better for a friend to say something, or should we all just wait it out?  UPDATE: thank you everyone for a lot of constructive criticism and for calling me in (though some of you definitely called me out)! I appreciate the reminder that art is never objective and that singing is a skill that can be worked on. I’m going to continue to support my friend’s career and keep my mouth shut 🤗\n"
     ]
    }
   ],
   "source": [
    "# To further explore and get a feel for the data, get a sample from each of the classes\n",
    "print(\"Example of a Person Who Is Deemed \\\"Not the Asshole\\\":\")\n",
    "print(data[data['verdict'] == 0].sample(1)['content'].values[0])\n",
    "\n",
    "print(\"\\nExample of a Person Who Is Deemed \\\"the Asshole\\\":\")\n",
    "print(data[data['verdict'] == 1].sample(1)['content'].values[0])"
   ]
  },
  {
   "cell_type": "code",
   "execution_count": 21,
   "id": "2fba6e49-236d-4646-997d-cf898f6ae6c3",
   "metadata": {},
   "outputs": [
    {
     "name": "stdout",
     "output_type": "stream",
     "text": [
      "Time Taken to Embed and Scale (1, 2) ngram Features:\n",
      "7.5766593999996985 Seconds\n",
      "Time Taken to Embed and Scale (2, 2) ngram Features:\n",
      "5.170548600000075 Seconds\n",
      "Time Taken to Embed and Scale (3, 6) ngram Features:\n",
      "22.159830800000236 Seconds\n"
     ]
    }
   ],
   "source": [
    "train_embeddings('reddit', reddit_embedding_times, X_train, X_test, X_tune, y_train, y_test, y_tune)"
   ]
  },
  {
   "cell_type": "code",
   "execution_count": 35,
   "id": "938c19a1-272d-4a37-b649-9c13fe16428d",
   "metadata": {},
   "outputs": [],
   "source": [
    "# save Reddit dataset feature embedding times\n",
    "with open('reddit_data/reddit_embedding_times.pkl', 'wb') as f:\n",
    "    pickle.dump(reddit_embedding_times, f)\n",
    "f.close()"
   ]
  },
  {
   "cell_type": "code",
   "execution_count": 23,
   "id": "e62bfc48-a12c-4d81-9e17-553ad50420f7",
   "metadata": {},
   "outputs": [],
   "source": [
    "\"\"\"\n",
    "Train Logistic Regression classifier on Reddit dataset\n",
    "Train a LR classifier for each potential n-gram range, choosing the best based on F1 Score\n",
    "\"\"\"\n",
    "\n",
    "temp_predictions = []\n",
    "temp_params = []\n",
    "temp_scores = []\n",
    "temp_times = []\n",
    "ngram_values = [(1,2), (2,2), (3,6)]\n",
    "\n",
    "for i in range(3):\n",
    "    vectors = np.load(f\"reddit_data/reddit_embeddings{i}.npz\", allow_pickle=True)\n",
    "    start_time = time.perf_counter()\n",
    "    prediction, c_param = train_lr(vectors[\"train\"], vectors[\"ytrain\"], vectors[\"test\"], vectors[\"ytest\"], vectors[\"tune\"], vectors[\"ytune\"])\n",
    "    end_time = time.perf_counter()\n",
    "    temp_predictions.append(prediction)\n",
    "    temp_params.append(c_param)\n",
    "    total_time = end_time - start_time\n",
    "    temp_times.append(total_time)\n",
    "    f_one = f1_score(vectors[\"ytest\"], prediction)\n",
    "    temp_scores.append(f_one)\n",
    "\n",
    "best_reddit_lr = temp_predictions[np.argmax(temp_scores)]\n",
    "best_c = temp_params[np.argmax(temp_scores)]\n",
    "best_ngram = ngram_values[np.argmax(temp_scores)]\n",
    "time_taken = temp_times[np.argmax(temp_scores)]\n",
    "\n",
    "ytest = vectors[\"ytest\"]\n",
    "acc = accuracy_score(ytest, best_reddit_lr)\n",
    "f1 = f1_score(ytest, best_reddit_lr)\n",
    "prec = precision_score(ytest, best_reddit_lr)\n",
    "rec = recall_score(ytest, best_reddit_lr)\n",
    "reddit_classifier_times.append(time_taken)\n",
    "reddit_accs.append(acc)\n",
    "reddit_scores.append(f1)\n",
    "reddit_precs.append(prec)\n",
    "reddit_recs.append(rec)\n",
    "\n",
    "reddit_lr = {'predictions': best_reddit_lr, 'c_value': best_c, 'best_ngram': best_ngram}\n",
    "with open('reddit_data/reddit_lr.pkl', 'wb') as f:\n",
    "    pickle.dump(reddit_lr, f)\n",
    "f.close()"
   ]
  },
  {
   "cell_type": "code",
   "execution_count": 25,
   "id": "ab5ea6ae-231f-4aeb-aba6-1848758ae548",
   "metadata": {},
   "outputs": [
    {
     "name": "stdout",
     "output_type": "stream",
     "text": [
      "Best n-gram Range to Use for Reddit Dataset: (3, 6)\n",
      "\n",
      "Tuned Logstic Regression C Value: 0.0027825594022071257\n",
      "\n",
      "[[158  84]\n",
      " [ 82 160]] \n",
      "\n",
      "              precision    recall  f1-score   support\n",
      "\n",
      "           0       0.66      0.65      0.66       242\n",
      "           1       0.66      0.66      0.66       242\n",
      "\n",
      "    accuracy                           0.66       484\n",
      "   macro avg       0.66      0.66      0.66       484\n",
      "weighted avg       0.66      0.66      0.66       484\n",
      "\n"
     ]
    }
   ],
   "source": [
    "print(f\"Best n-gram Range to Use for Reddit Dataset: {best_ngram}\\n\")\n",
    "print(f\"Tuned Logstic Regression C Value: {best_c}\\n\")\n",
    "print(confusion_matrix(ytest, best_reddit_lr), \"\\n\")\n",
    "print(classification_report(ytest, best_reddit_lr))"
   ]
  },
  {
   "cell_type": "code",
   "execution_count": 27,
   "id": "646954eb-1d79-4ff2-aff8-e212ee3e8bbd",
   "metadata": {},
   "outputs": [],
   "source": [
    "vectors = np.load(f\"reddit_data/reddit_embeddings2.npz\", allow_pickle=True)\n",
    "start_time = time.perf_counter()\n",
    "prediction, c_param = train_svm(vectors[\"train\"], vectors[\"ytrain\"], vectors[\"test\"], vectors[\"ytest\"], vectors[\"tune\"], vectors[\"ytune\"])\n",
    "end_time = time.perf_counter()\n",
    "total_time = end_time - start_time\n",
    "\n",
    "ytest = vectors[\"ytest\"]\n",
    "acc = accuracy_score(ytest, prediction)\n",
    "f1 = f1_score(ytest, prediction)\n",
    "prec = precision_score(ytest, prediction)\n",
    "rec = recall_score(ytest, prediction)\n",
    "reddit_classifier_times.append(total_time)\n",
    "reddit_accs.append(acc)\n",
    "reddit_scores.append(f1)\n",
    "reddit_precs.append(prec)\n",
    "reddit_recs.append(rec)\n",
    "\n",
    "reddit_svm = {'predictions': prediction, 'c_value': c_param}\n",
    "with open('reddit_data/reddit_svm.pkl', 'wb') as f:\n",
    "    pickle.dump(reddit_svm, f)\n",
    "f.close()"
   ]
  },
  {
   "cell_type": "code",
   "execution_count": 29,
   "id": "43161582-238f-49b8-83b0-bae2bddc919c",
   "metadata": {},
   "outputs": [
    {
     "name": "stdout",
     "output_type": "stream",
     "text": [
      "Tuned SVM C Value: 1\n",
      "\n",
      "[[153  89]\n",
      " [ 84 158]] \n",
      "\n",
      "              precision    recall  f1-score   support\n",
      "\n",
      "           0       0.65      0.63      0.64       242\n",
      "           1       0.64      0.65      0.65       242\n",
      "\n",
      "    accuracy                           0.64       484\n",
      "   macro avg       0.64      0.64      0.64       484\n",
      "weighted avg       0.64      0.64      0.64       484\n",
      "\n"
     ]
    }
   ],
   "source": [
    "print(f\"Tuned SVM C Value: {c_param}\\n\")\n",
    "print(confusion_matrix(ytest, prediction), \"\\n\")\n",
    "print(classification_report(ytest, prediction))"
   ]
  },
  {
   "cell_type": "code",
   "execution_count": 31,
   "id": "76538362-bb56-4de2-9fb0-9060bfc98ee4",
   "metadata": {},
   "outputs": [],
   "source": [
    "vectors = np.load(f\"reddit_data/reddit_embeddings2.npz\", allow_pickle=True)\n",
    "start_time = time.perf_counter()\n",
    "prediction, crit = train_forest(vectors[\"train\"], vectors[\"ytrain\"], vectors[\"test\"], vectors[\"ytest\"], vectors[\"tune\"], vectors[\"ytune\"])\n",
    "end_time = time.perf_counter()\n",
    "total_time = end_time - start_time\n",
    "\n",
    "ytest = vectors[\"ytest\"]\n",
    "acc = accuracy_score(ytest, prediction)\n",
    "f1 = f1_score(ytest, prediction)\n",
    "prec = precision_score(ytest, prediction)\n",
    "rec = recall_score(ytest, prediction)\n",
    "reddit_classifier_times.append(total_time)\n",
    "reddit_accs.append(acc)\n",
    "reddit_scores.append(f1)\n",
    "reddit_precs.append(prec)\n",
    "reddit_recs.append(rec)\n",
    "\n",
    "reddit_forest = {'predictions': prediction, 'criterion': crit}\n",
    "with open('reddit_data/reddit_forest.pkl', 'wb') as f:\n",
    "    pickle.dump(reddit_forest, f)\n",
    "f.close()"
   ]
  },
  {
   "cell_type": "code",
   "execution_count": 33,
   "id": "55862daf-b221-4659-9052-3e6a9b8e5765",
   "metadata": {},
   "outputs": [
    {
     "name": "stdout",
     "output_type": "stream",
     "text": [
      "Tuned Random Forest Splitting Criterion: entropy\n",
      "\n",
      "[[228  14]\n",
      " [117 125]] \n",
      "\n",
      "              precision    recall  f1-score   support\n",
      "\n",
      "           0       0.66      0.94      0.78       242\n",
      "           1       0.90      0.52      0.66       242\n",
      "\n",
      "    accuracy                           0.73       484\n",
      "   macro avg       0.78      0.73      0.72       484\n",
      "weighted avg       0.78      0.73      0.72       484\n",
      "\n"
     ]
    }
   ],
   "source": [
    "print(f\"Tuned Random Forest Splitting Criterion: {crit}\\n\")\n",
    "print(confusion_matrix(ytest, prediction), \"\\n\")\n",
    "print(classification_report(ytest, prediction))"
   ]
  },
  {
   "cell_type": "code",
   "execution_count": 37,
   "id": "0356f836-aa60-4c53-8688-ee63a6afd00c",
   "metadata": {},
   "outputs": [],
   "source": [
    "# save classifier metrics as a dictionary\n",
    "\n",
    "reddit_classifier_stats = {'times': reddit_classifier_times, 'accuracies': reddit_accs, 'scores': reddit_scores, 'precisions': reddit_precs, 'recalls': reddit_recs}\n",
    "\n",
    "with open('reddit_data/reddit_classifier_stats.pkl', 'wb') as f:\n",
    "    pickle.dump(reddit_classifier_stats, f)\n",
    "f.close()"
   ]
  },
  {
   "cell_type": "code",
   "execution_count": 39,
   "id": "6a3ef0b3-342d-48db-841b-e1e7b458d9d1",
   "metadata": {},
   "outputs": [
    {
     "data": {
      "image/png": "[encoded data removed]",
      "text/plain": [
       "<Figure size 500x400 with 1 Axes>"
      ]
     },
     "metadata": {},
     "output_type": "display_data"
    },
    {
     "data": {
      "image/png": "[encoded data removed]",
      "text/plain": [
       "<Figure size 500x400 with 1 Axes>"
      ]
     },
     "metadata": {},
     "output_type": "display_data"
    },
    {
     "name": "stdout",
     "output_type": "stream",
     "text": [
      "\n",
      "Time Taken to Train Model with Highest F1 Score:\n",
      "1.6744219000001976\n",
      "\n",
      "Total Time Including Embeddings:\n",
      "23.834252700000434\n"
     ]
    }
   ],
   "source": [
    "with open('reddit_data/reddit_classifier_stats.pkl', 'rb') as f:\n",
    "    reddit_classifier_stats = pickle.load(f)\n",
    "f.close()\n",
    "with open('reddit_data/reddit_embedding_times.pkl', 'rb') as f:\n",
    "    reddit_embedding_times = pickle.load(f)\n",
    "f.close()\n",
    "\n",
    "reddit_classifier_times = reddit_classifier_stats['times']\n",
    "\n",
    "reddit_accs = reddit_classifier_stats['accuracies']\n",
    "reddit_scores = reddit_classifier_stats['scores']\n",
    "reddit_precs = reddit_classifier_stats['precisions']\n",
    "reddit_recs = reddit_classifier_stats['recalls']\n",
    "\n",
    "models = ['Logistic Regression', 'SVM', 'Random Forest']\n",
    "colors = ['r', 'dodgerblue', 'blueviolet']\n",
    "\n",
    "fig, ax = plt.subplots(figsize=(5, 4))\n",
    "bars = ax.bar(models, reddit_accs, color=colors)\n",
    "ax.bar_label(bars)\n",
    "plt.title(\"Reddit Classifier Model Accuracies\")\n",
    "plt.xticks(rotation=90)\n",
    "plt.show()\n",
    "\n",
    "fig, ax = plt.subplots(figsize=(5, 4))\n",
    "bars = ax.bar(models, reddit_scores, color=colors)\n",
    "ax.bar_label(bars)\n",
    "plt.title(\"Reddit Classifier Model F1 Scores\")\n",
    "plt.xticks(rotation=90)\n",
    "plt.show()\n",
    "\n",
    "print(\"\\nTime Taken to Train Model with Highest F1 Score:\")\n",
    "print(str(reddit_classifier_times[np.argmax(reddit_scores)]))\n",
    "print(\"\\nTotal Time Including Embeddings:\")\n",
    "print(str(reddit_classifier_times[np.argmax(reddit_scores)] + reddit_embedding_times[2]))"
   ]
  },
  {
   "cell_type": "markdown",
   "id": "738a395b-92f4-407b-92f2-222c4f809d84",
   "metadata": {},
   "source": [
    "<h1>FastText Library Model Evaluation and Comparison</h1>"
   ]
  },
  {
   "cell_type": "markdown",
   "id": "0b78e2bb-bb2f-4690-85fc-4ca986503af2",
   "metadata": {},
   "source": [
    "<h3>IMDB FastText Model</h3>"
   ]
  },
  {
   "cell_type": "code",
   "execution_count": 45,
   "id": "ac4bcf84-e003-4a41-8e14-b56178690e79",
   "metadata": {},
   "outputs": [],
   "source": [
    "imdb_classifier_times = []\n",
    "\n",
    "# initialize lists of model evaluation metrics for IMDB set\n",
    "imdb_accs = []\n",
    "imdb_scores = []\n",
    "imdb_precs = []\n",
    "imdb_recs = []"
   ]
  },
  {
   "cell_type": "code",
   "execution_count": 43,
   "id": "38d81067-df6e-4950-9662-4fd41ab22f52",
   "metadata": {},
   "outputs": [],
   "source": [
    "imdb_path = \"C:/Users/atobo/CS770_data/project_data/imdb_data\""
   ]
  },
  {
   "cell_type": "code",
   "execution_count": 48,
   "id": "e94bc67b-ef5d-4db1-aa34-6a581ca1b474",
   "metadata": {},
   "outputs": [
    {
     "name": "stdout",
     "output_type": "stream",
     "text": [
      "Time Taken to Train IMDB Model\n",
      "6.865764599999238\n"
     ]
    }
   ],
   "source": [
    "# record start time of training and predicting model\n",
    "start_time = time.perf_counter()\n",
    "\n",
    "# train fasttext model with no validation\n",
    "imdb_model = fasttext.train_supervised(imdb_path + '/fasttext_train.txt')\n",
    "\n",
    "# save total time taken to list of times\n",
    "end_time = time.perf_counter()\n",
    "elapsed_time = end_time - start_time\n",
    "print(\"Time Taken to Train IMDB Model\")\n",
    "print(elapsed_time)\n",
    "imdb_classifier_times.append(elapsed_time)\n",
    "\n",
    "imdb_model.save_model(imdb_path + \"/fasttext_imdb_model.bin\") # save model so it can be referenced later"
   ]
  },
  {
   "cell_type": "code",
   "execution_count": 50,
   "id": "9c9ad7b4-bffe-494c-b9e9-de49890f80e7",
   "metadata": {},
   "outputs": [
    {
     "name": "stdout",
     "output_type": "stream",
     "text": [
      "Time Taken to Train and Tune IMDB Model:\n",
      "337.99493059999986\n"
     ]
    }
   ],
   "source": [
    "# train fasttext model with hyperparameter tuning on 10% validation set\n",
    "imdb_tuned_model = fasttext.train_supervised(imdb_path + '/fasttext_train.txt', autotuneValidationFile=imdb_path + \"/fasttext_tune.valid\")\n",
    "\n",
    "# save total time taken to list of times\n",
    "end_time = time.perf_counter()\n",
    "elapsed_time = end_time - start_time\n",
    "print(\"Time Taken to Train and Tune IMDB Model:\")\n",
    "print(elapsed_time)\n",
    "imdb_classifier_times.append(elapsed_time)\n",
    "\n",
    "imdb_tuned_model.save_model(imdb_path + \"/fasttext_imdb_tuned_model.bin\") # save model so it can be referenced later"
   ]
  },
  {
   "cell_type": "code",
   "execution_count": 52,
   "id": "dd15ec29-f022-40e5-96b7-a8037e607fca",
   "metadata": {},
   "outputs": [],
   "source": [
    "# save training times using Python Pickle\n",
    "with open('imdb_data/fasttext_imdb_training_times.pkl', 'wb') as f:\n",
    "    pickle.dump(imdb_classifier_times, f)\n",
    "f.close()"
   ]
  },
  {
   "cell_type": "code",
   "execution_count": 66,
   "id": "2bbb8afa-0a1e-42cd-991c-8d00a44810d1",
   "metadata": {},
   "outputs": [
    {
     "name": "stdout",
     "output_type": "stream",
     "text": [
      "Model F1 Score:\n",
      "0.8764617691154423\n",
      "Model Accuracy: 0.8764617691154423\n",
      "\n",
      "Confusion Matrix:\n",
      "[[4422  581]\n",
      " [ 655 4347]]\n",
      "\n",
      "Classification Report:\n",
      "              precision    recall  f1-score   support\n",
      "\n",
      "    positive       0.88      0.87      0.88      5002\n",
      "    negative       0.87      0.88      0.88      5003\n",
      "\n",
      "    accuracy                           0.88     10005\n",
      "   macro avg       0.88      0.88      0.88     10005\n",
      "weighted avg       0.88      0.88      0.88     10005\n",
      "\n",
      "\n",
      "Tuned Model F1 Score:\n",
      "0.9004497751124437\n",
      "Model Accuracy: 0.9004497751124437\n",
      "\n",
      "Confusion Matrix:\n",
      "[[4537  466]\n",
      " [ 530 4472]]\n",
      "\n",
      "Classification Report:\n",
      "              precision    recall  f1-score   support\n",
      "\n",
      "    positive       0.91      0.89      0.90      5002\n",
      "    negative       0.90      0.91      0.90      5003\n",
      "\n",
      "    accuracy                           0.90     10005\n",
      "   macro avg       0.90      0.90      0.90     10005\n",
      "weighted avg       0.90      0.90      0.90     10005\n",
      "\n"
     ]
    }
   ],
   "source": [
    "# loop through each of the model's predictions in order to get confusion matrix and classification report\n",
    "true_labels = []\n",
    "texts = []\n",
    "with open(imdb_path + \"/fasttext_test.txt\", \"r\", encoding=\"utf-8\") as f:\n",
    "    for line in f:\n",
    "        label, text = line.split(\" \", 1) # split at space after __label__sentiment\n",
    "        true_labels.append(label.strip())\n",
    "        texts.append(text.strip())\n",
    "\n",
    "\n",
    "imdb_model = fasttext.load_model(imdb_path + \"/fasttext_imdb_model.bin\") # load the previously created model\n",
    "result = imdb_model.test(imdb_path + \"/fasttext_test.txt\") # use built-in test function to get precision, recall\n",
    "print(\"Model F1 Score:\")\n",
    "fone = (2 * result[1] * result[2]) / (result[1] + result[2])\n",
    "print(fone) # calculate F1 score from built-in test\n",
    "\n",
    "predicted_labels = [imdb_model.predict(text)[0][0] for text in texts] # predict each entry in the data\n",
    "acc = accuracy_score(true_labels, predicted_labels)\n",
    "print(\"Model Accuracy:\", acc)\n",
    "imdb_accs.append(acc)\n",
    "imdb_scores.append(fone)\n",
    "prec = precision_score(true_labels, predicted_labels, pos_label=\"__label__positive\")\n",
    "imdb_precs.append(prec)\n",
    "rec = recall_score(true_labels, predicted_labels, pos_label=\"__label__positive\")\n",
    "imdb_recs.append(rec)\n",
    "\n",
    "# print confusion matrix and classification report\n",
    "cm = confusion_matrix(true_labels, predicted_labels, labels=[\"__label__positive\", \"__label__negative\"])\n",
    "print(\"\\nConfusion Matrix:\")\n",
    "print(cm)\n",
    "print(\"\\nClassification Report:\")\n",
    "print(classification_report(true_labels, predicted_labels, target_names=[\"positive\", \"negative\"]))\n",
    "\n",
    "\n",
    "imdb_tuned_model = fasttext.load_model(imdb_path + \"/fasttext_imdb_tuned_model.bin\")\n",
    "result = imdb_tuned_model.test(imdb_path + \"/fasttext_test.txt\")\n",
    "print(\"\\nTuned Model F1 Score:\")\n",
    "fone = (2 * result[1] * result[2]) / (result[1] + result[2])\n",
    "print(fone) # calculate F1 score from built-in test\n",
    "\n",
    "predicted_labels = [imdb_tuned_model.predict(text)[0][0] for text in texts] # predict each entry in the data\n",
    "acc = accuracy_score(true_labels, predicted_labels)\n",
    "print(\"Model Accuracy:\", acc)\n",
    "imdb_accs.append(acc)\n",
    "imdb_scores.append(fone)\n",
    "prec = precision_score(true_labels, predicted_labels, pos_label=\"__label__positive\")\n",
    "imdb_precs.append(prec)\n",
    "rec = recall_score(true_labels, predicted_labels, pos_label=\"__label__positive\")\n",
    "imdb_recs.append(rec)\n",
    "\n",
    "# print confusion matrix and classification report\n",
    "cm = confusion_matrix(true_labels, predicted_labels, labels=[\"__label__positive\", \"__label__negative\"])\n",
    "print(\"\\nConfusion Matrix:\")\n",
    "print(cm)\n",
    "print(\"\\nClassification Report:\")\n",
    "print(classification_report(true_labels, predicted_labels, target_names=[\"positive\", \"negative\"]))"
   ]
  },
  {
   "cell_type": "code",
   "execution_count": 68,
   "id": "8c998e29-50f0-4978-88ed-a318a876a81a",
   "metadata": {},
   "outputs": [],
   "source": [
    "# save evaluation metrics for each IMDB classifier as a dictionary using Python Pickle\n",
    "\n",
    "fasttext_imdb_classifier_stats = {'accuracies': imdb_accs, 'scores': imdb_scores, 'precisions': imdb_precs, 'recalls': imdb_recs}\n",
    "\n",
    "with open('imdb_data/fasttext_imdb_classifier_stats.pkl', 'wb') as f:\n",
    "    pickle.dump(fasttext_imdb_classifier_stats, f)\n",
    "f.close()"
   ]
  },
  {
   "cell_type": "markdown",
   "id": "c280ecd3-ef42-4809-af4d-5d6eb0e21384",
   "metadata": {},
   "source": [
    "<h3>FastText Reddit Model</h3>"
   ]
  },
  {
   "cell_type": "code",
   "execution_count": 13,
   "id": "2d57bcfa-cdb1-4f70-a985-95d780f628b2",
   "metadata": {},
   "outputs": [],
   "source": [
    "# initialize lists of Reddit training times\n",
    "reddit_classifier_times = []\n",
    "\n",
    "# initialize lists of Reddit model evaluation metrics\n",
    "reddit_accs = []\n",
    "reddit_scores = []\n",
    "reddit_precs = []\n",
    "reddit_recs = []"
   ]
  },
  {
   "cell_type": "code",
   "execution_count": 3,
   "id": "79c1d04a-27c6-4afd-9a92-31dc566d1648",
   "metadata": {},
   "outputs": [],
   "source": [
    "reddit_path = \"reddit_data\""
   ]
  },
  {
   "cell_type": "code",
   "execution_count": 74,
   "id": "ff321677-441b-4add-b10d-79d446e34256",
   "metadata": {},
   "outputs": [
    {
     "name": "stdout",
     "output_type": "stream",
     "text": [
      "Time Taken to Train Reddit Model:\n",
      "0.6353776000014477\n"
     ]
    }
   ],
   "source": [
    "# record start time of training and predicting model\n",
    "start_time = time.perf_counter()\n",
    "\n",
    "# train model and tune on 10% validation set\n",
    "reddit_model = fasttext.train_supervised(reddit_path + '/fasttext_train.txt')\n",
    "\n",
    "# save total time taken to list of times\n",
    "end_time = time.perf_counter()\n",
    "elapsed_time = end_time - start_time\n",
    "print(\"Time Taken to Train Reddit Model:\")\n",
    "print(elapsed_time)\n",
    "reddit_classifier_times.append(elapsed_time)\n",
    "\n",
    "reddit_model.save_model(reddit_path + \"/fasttext_reddit_model.bin\") # save model so it can be referenced later"
   ]
  },
  {
   "cell_type": "code",
   "execution_count": 76,
   "id": "ceb4f2a8-5117-4281-abd3-453972dd3168",
   "metadata": {},
   "outputs": [
    {
     "name": "stdout",
     "output_type": "stream",
     "text": [
      "Time Taken to Train and Tune Reddit Model:\n",
      "339.4969187000006\n"
     ]
    }
   ],
   "source": [
    "# record start time of training and predicting model\n",
    "start_time = time.perf_counter()\n",
    "\n",
    "# train model and tune on 10% validation set\n",
    "reddit_tuned_model = fasttext.train_supervised(reddit_path + '/fasttext_train.txt', autotuneValidationFile=reddit_path + '/fasttext_tune.valid')\n",
    "\n",
    "# save total time taken to list of times\n",
    "end_time = time.perf_counter()\n",
    "elapsed_time = end_time - start_time\n",
    "print(\"Time Taken to Train and Tune Reddit Model:\")\n",
    "print(elapsed_time)\n",
    "reddit_classifier_times.append(elapsed_time)\n",
    "\n",
    "reddit_tuned_model.save_model(reddit_path + \"/fasttext_reddit_tuned_model.bin\") # save model so it can be referenced later"
   ]
  },
  {
   "cell_type": "code",
   "execution_count": 78,
   "id": "00c14eee-b4b6-4506-a667-281008bd6e59",
   "metadata": {},
   "outputs": [],
   "source": [
    "# save training times using Python Pickle\n",
    "with open('reddit_data/fasttext_reddit_training_times.pkl', 'wb') as f:\n",
    "    pickle.dump(reddit_classifier_times, f)\n",
    "f.close()"
   ]
  },
  {
   "cell_type": "code",
   "execution_count": 15,
   "id": "9cc00518-ed21-42b4-ab88-3ffb4571dffb",
   "metadata": {},
   "outputs": [
    {
     "name": "stdout",
     "output_type": "stream",
     "text": [
      "Model F1 Score:\n",
      "0.5381679389312977\n",
      "Model Accuracy: 0.5381679389312977\n",
      "\n",
      "Confusion Matrix:\n",
      "[[282   0]\n",
      " [242   0]]\n",
      "\n",
      "Classification Report:\n",
      "              precision    recall  f1-score   support\n",
      "\n",
      "    negative       0.54      1.00      0.70       282\n",
      "    positive       0.00      0.00      0.00       242\n",
      "\n",
      "    accuracy                           0.54       524\n",
      "   macro avg       0.27      0.50      0.35       524\n",
      "weighted avg       0.29      0.54      0.38       524\n",
      "\n",
      "\n",
      "Tuned Model F1 Score:\n",
      "0.7404580152671756\n",
      "Model Accuracy: 0.7404580152671756\n",
      "\n",
      "Confusion Matrix:\n",
      "[[215  67]\n",
      " [ 69 173]]\n",
      "\n",
      "Classification Report:\n",
      "              precision    recall  f1-score   support\n",
      "\n",
      "    negative       0.76      0.76      0.76       282\n",
      "    positive       0.72      0.71      0.72       242\n",
      "\n",
      "    accuracy                           0.74       524\n",
      "   macro avg       0.74      0.74      0.74       524\n",
      "weighted avg       0.74      0.74      0.74       524\n",
      "\n"
     ]
    }
   ],
   "source": [
    "# loop through each of the model's predictions in order to get confusion matrix and classification report\n",
    "true_labels = []\n",
    "texts = []\n",
    "with open(reddit_path + \"/fasttext_test.txt\", \"r\", encoding=\"utf-8\") as f:\n",
    "    for line in f:\n",
    "        label, text = line.split(\" \", 1) # split at space after __label__sentiment\n",
    "        true_labels.append(label.strip())\n",
    "        texts.append(text.strip())\n",
    "\n",
    "\n",
    "reddit_model = fasttext.load_model(reddit_path + \"/fasttext_reddit_model.bin\") # load the previously created model\n",
    "result = reddit_model.test(reddit_path + \"/fasttext_test.txt\") # use built-in test function to get precision, recall\n",
    "print(\"Model F1 Score:\")\n",
    "fone = (2 * result[1] * result[2]) / (result[1] + result[2])\n",
    "print(fone) # calculate F1 score from built-in test\n",
    "\n",
    "predicted_labels = [reddit_model.predict(text)[0][0] for text in texts] # predict each entry in the data\n",
    "acc = accuracy_score(true_labels, predicted_labels)\n",
    "print(\"Model Accuracy:\", acc)\n",
    "reddit_accs.append(acc)\n",
    "reddit_scores.append(fone)\n",
    "prec = precision_score(true_labels, predicted_labels, pos_label=\"__label__positive\", zero_division=0)\n",
    "reddit_precs.append(prec)\n",
    "rec = recall_score(true_labels, predicted_labels, pos_label=\"__label__positive\", zero_division=0)\n",
    "reddit_recs.append(rec)\n",
    "\n",
    "# print confusion matrix and classification report\n",
    "cm = confusion_matrix(true_labels, predicted_labels, labels=[\"__label__negative\", \"__label__positive\"])\n",
    "print(\"\\nConfusion Matrix:\")\n",
    "print(cm)\n",
    "print(\"\\nClassification Report:\")\n",
    "print(classification_report(true_labels, predicted_labels, target_names=[\"negative\", \"positive\"], zero_division=0))\n",
    "\n",
    "\n",
    "reddit_tuned_model = fasttext.load_model(reddit_path + \"/fasttext_reddit_tuned_model.bin\")\n",
    "result = reddit_tuned_model.test(reddit_path + \"/fasttext_test.txt\")\n",
    "print(\"\\nTuned Model F1 Score:\")\n",
    "fone = (2 * result[1] * result[2]) / (result[1] + result[2])\n",
    "print(fone) # calculate F1 score from built-in test\n",
    "\n",
    "predicted_labels = [reddit_tuned_model.predict(text)[0][0] for text in texts] # predict each entry in the data\n",
    "acc = accuracy_score(true_labels, predicted_labels)\n",
    "print(\"Model Accuracy:\", acc)\n",
    "reddit_accs.append(acc)\n",
    "reddit_scores.append(fone)\n",
    "prec = precision_score(true_labels, predicted_labels, pos_label=\"__label__positive\", zero_division=0)\n",
    "reddit_precs.append(prec)\n",
    "rec = recall_score(true_labels, predicted_labels, pos_label=\"__label__positive\", zero_division=0)\n",
    "reddit_recs.append(rec)\n",
    "\n",
    "# print confusion matrix and classification report\n",
    "cm = confusion_matrix(true_labels, predicted_labels, labels=[\"__label__negative\", \"__label__positive\"])\n",
    "print(\"\\nConfusion Matrix:\")\n",
    "print(cm)\n",
    "print(\"\\nClassification Report:\")\n",
    "print(classification_report(true_labels, predicted_labels, target_names=[\"negative\", \"positive\"], zero_division=0))"
   ]
  },
  {
   "cell_type": "code",
   "execution_count": 82,
   "id": "8479c748-021d-48eb-9684-2d132df8bdcd",
   "metadata": {},
   "outputs": [],
   "source": [
    "# save evaluation metrics for each Reddit classifier as a dictionary using Python Pickle\n",
    "\n",
    "fasttext_reddit_classifier_stats = {'accuracies': reddit_accs, 'scores': reddit_scores, 'precisions': reddit_precs, 'recalls': reddit_recs}\n",
    "\n",
    "with open('reddit_data/fasttext_reddit_classifier_stats.pkl', 'wb') as f:\n",
    "    pickle.dump(fasttext_reddit_classifier_stats, f)\n",
    "f.close()"
   ]
  },
  {
   "cell_type": "markdown",
   "id": "f44b3f4c-30cd-487b-8d05-0c7a55c79e27",
   "metadata": {},
   "source": [
    "<h2>Model Comparisons</h2>"
   ]
  },
  {
   "cell_type": "code",
   "execution_count": 87,
   "id": "22088489-a6db-4bec-a290-16f9777198f6",
   "metadata": {},
   "outputs": [],
   "source": [
    "with open('imdb_data/imdb_classifier_stats.pkl', 'rb') as f:\n",
    "    imdb_classifier_stats = pickle.load(f)\n",
    "f.close()\n",
    "imdb_accs1 = imdb_classifier_stats['accuracies']\n",
    "imdb_scores1 = imdb_classifier_stats['scores']\n",
    "\n",
    "with open('reddit_data/reddit_classifier_stats.pkl', 'rb') as f:\n",
    "    reddit_classifier_stats = pickle.load(f)\n",
    "f.close()\n",
    "reddit_accs1 = reddit_classifier_stats['accuracies']\n",
    "reddit_scores1 = reddit_classifier_stats['scores']"
   ]
  },
  {
   "cell_type": "code",
   "execution_count": 107,
   "id": "e788ec5d-fe3b-48e8-bad4-daaf534ca09e",
   "metadata": {},
   "outputs": [
    {
     "data": {
      "image/png": "[encoded data removed]",
      "text/plain": [
       "<Figure size 500x400 with 1 Axes>"
      ]
     },
     "metadata": {},
     "output_type": "display_data"
    },
    {
     "data": {
      "image/png": "[encoded data removed]",
      "text/plain": [
       "<Figure size 500x400 with 1 Axes>"
      ]
     },
     "metadata": {},
     "output_type": "display_data"
    }
   ],
   "source": [
    "models = [\"FastText Model\", \"Tuned FastText Model\", \"Best of Proposed Model\"]\n",
    "colors = ['r', 'dodgerblue', 'blueviolet']\n",
    "\n",
    "best = imdb_accs1[np.argmax(imdb_accs1)]\n",
    "imdb_accs.append(best)\n",
    "\n",
    "fig, ax = plt.subplots(figsize=(5, 4))\n",
    "bars = ax.bar(models, imdb_accs, color=colors)\n",
    "ax.bar_label(bars)\n",
    "plt.title(\"Accuracy Comparisons of IMDB Dataset\")\n",
    "plt.xticks(rotation=90)\n",
    "plt.show()\n",
    "\n",
    "best = imdb_scores1[np.argmax(imdb_scores1)]\n",
    "imdb_scores.append(best)\n",
    "\n",
    "fig, ax = plt.subplots(figsize=(5, 4))\n",
    "bars = ax.bar(models, imdb_scores, color=colors)\n",
    "ax.bar_label(bars)\n",
    "plt.title(\"F1 Score Comparisons of IMDB Dataset\")\n",
    "plt.xticks(rotation=90)\n",
    "plt.show()"
   ]
  },
  {
   "cell_type": "code",
   "execution_count": 109,
   "id": "88f812dd-9a2d-42f7-9e69-7cf0775840a7",
   "metadata": {},
   "outputs": [
    {
     "data": {
      "image/png": "[encoded data removed]",
      "text/plain": [
       "<Figure size 500x400 with 1 Axes>"
      ]
     },
     "metadata": {},
     "output_type": "display_data"
    },
    {
     "data": {
      "image/png": "[encoded data removed]",
      "text/plain": [
       "<Figure size 500x400 with 1 Axes>"
      ]
     },
     "metadata": {},
     "output_type": "display_data"
    }
   ],
   "source": [
    "best = reddit_accs1[np.argmax(reddit_accs1)]\n",
    "reddit_accs.append(best)\n",
    "\n",
    "fig, ax = plt.subplots(figsize=(5, 4))\n",
    "bars = ax.bar(models, reddit_accs, color=colors)\n",
    "ax.bar_label(bars)\n",
    "plt.title(\"Accuracy Comparisons of Reddit Dataset\")\n",
    "plt.xticks(rotation=90)\n",
    "plt.show()\n",
    "\n",
    "best = reddit_scores1[np.argmax(reddit_scores1)]\n",
    "reddit_scores.append(best)\n",
    "\n",
    "fig, ax = plt.subplots(figsize=(5, 4))\n",
    "bars = ax.bar(models, reddit_scores, color=colors)\n",
    "ax.bar_label(bars)\n",
    "plt.title(\"F1 Score Comparisons of Reddit Dataset\")\n",
    "plt.xticks(rotation=90)\n",
    "plt.show()"
   ]
  },
  {
   "cell_type": "markdown",
   "id": "77beb113-1a5d-4381-80e7-37e2c408894e",
   "metadata": {},
   "source": [
    "Overall, The Model proposed in Bag of Tricks for Efficient Text Classification is much more effective than our proposed model, both in training time and in model accuracy (and F1 score). That being said, our model seems to perform better than FastText straight out of the box (no hyperparameter tuning) when it comes to a small dataset like in the Reddit set above. Moreover, our model produces more useful training byproducts that can be used as a basis for further research."
   ]
  }
 ],
 "metadata": {
  "kernelspec": {
   "display_name": "Python 3 (ipykernel)",
   "language": "python",
   "name": "python3"
  },
  "language_info": {
   "codemirror_mode": {
    "name": "ipython",
    "version": 3
   },
   "file_extension": ".py",
   "mimetype": "text/x-python",
   "name": "python",
   "nbconvert_exporter": "python",
   "pygments_lexer": "ipython3",
   "version": "3.9.13"
  }
 },
 "nbformat": 4,
 "nbformat_minor": 5
}
