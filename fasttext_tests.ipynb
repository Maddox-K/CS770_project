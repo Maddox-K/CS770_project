{
 "cells": [
  {
   "cell_type": "code",
   "execution_count": 1,
   "id": "c141bc53",
   "metadata": {},
   "outputs": [],
   "source": [
    "import time\n",
    "import fasttext\n",
    "from io import StringIO\n",
    "import csv\n",
    "import pandas as pd\n",
    "from scipy import stats\n",
    "import matplotlib\n",
    "import matplotlib.pyplot as plt\n",
    "import seaborn as sns\n",
    "\n",
    "import statsmodels.api as sm\n",
    "\n",
    "from sklearn.metrics import roc_auc_score, roc_curve, accuracy_score, classification_report, confusion_matrix\n",
    "from sklearn.datasets import make_classification\n",
    "from sklearn.model_selection import train_test_split\n",
    "from sklearn.preprocessing import StandardScaler\n",
    "from sklearn.feature_selection import RFE"
   ]
  },
  {
   "cell_type": "markdown",
   "id": "d9d159bf",
   "metadata": {},
   "source": [
    "<h2>FastText IMDB Model</h2>"
   ]
  },
  {
   "cell_type": "code",
   "execution_count": 14,
   "id": "d99af535",
   "metadata": {},
   "outputs": [],
   "source": [
    "# open fasttext-formatted corpus file\n",
    "with open(\"imdb_data/fasttext_imdb_corpus.txt\", \"r\", encoding=\"utf-8\") as f:\n",
    "    content = f.read()\n",
    "    \n",
    "# get content of corpus as a dataframe\n",
    "# saving corpus to a text file and then splitting it later (in this file) allows for different random splits to be made if desired\n",
    "content = content.replace(\"|||\", '').replace(\"__label__positive\", \"__label__positive|||\").replace(\"__label__negative\", \"__label__negative|||\")\n",
    "df = pd.read_csv(StringIO(content), delimiter=\"\\|\\|\\|\\s*\", header=None, names=['sentiment', 'review'], quoting=3, engine='python')"
   ]
  },
  {
   "cell_type": "code",
   "execution_count": 15,
   "id": "918dc86a",
   "metadata": {},
   "outputs": [],
   "source": [
    "# split data into predictor (review) and sentiment to be predicted\n",
    "X = df['review']\n",
    "y = df['sentiment']\n",
    "\n",
    "# divide dataset into train, test, and validation sets (70, 20, 10 split)\n",
    "X_train, X_temp, y_train, y_temp = train_test_split(X, y, test_size=0.3, random_state=42, stratify=y)\n",
    "X_test, X_tune, y_test, y_tune = train_test_split(X_temp, y_temp, test_size=0.333, random_state=42, stratify=y_temp)\n",
    "\n",
    "# create list of dataframes to iterate through later\n",
    "sets = []\n",
    "setnames = ['train', 'test', 'tune']\n",
    "\n",
    "train = y_train.to_frame().join(X_train) # create training set\n",
    "sets.append(train)\n",
    "\n",
    "test = y_test.to_frame().join(X_test) # create testing set\n",
    "sets.append(test)\n",
    "\n",
    "tune = y_tune.to_frame().join(X_tune) # create validation set\n",
    "sets.append(tune)"
   ]
  },
  {
   "cell_type": "code",
   "execution_count": 16,
   "id": "f4784646",
   "metadata": {},
   "outputs": [],
   "source": [
    "i = 0\n",
    "for set in sets:\n",
    "    # write set contents to file\n",
    "    set.to_csv(f\"imdb_data/fasttext_{setnames[i]}_temp.txt\", index=False, sep=\" \", header=False, escapechar=\" \", quoting=csv.QUOTE_NONE)\n",
    "    \n",
    "    with open(f\"imdb_data/fasttext_{setnames[i]}_temp.txt\", \"r\", encoding=\"utf-8\") as f:\n",
    "        lines = f.readlines() # read set contents from file\n",
    "    \n",
    "    cleaned_lines = []\n",
    "    for line in lines:\n",
    "        line = line.replace(\"  \", \" \") # clean space padding\n",
    "        cleaned_lines.append(line)\n",
    "\n",
    "    # write fully cleaned set to file for fasttext to use\n",
    "    if setnames[i] == 'tune':\n",
    "        with open(f\"imdb_data/fasttext_{setnames[i]}.valid\", \"w\", encoding=\"utf-8\") as f:\n",
    "            f.writelines(cleaned_lines)\n",
    "    else:\n",
    "        with open(f\"imdb_data/fasttext_{setnames[i]}.txt\", \"w\", encoding=\"utf-8\") as f:\n",
    "            f.writelines(cleaned_lines)\n",
    "    \n",
    "    i += 1"
   ]
  },
  {
   "cell_type": "code",
   "execution_count": 17,
   "id": "a1d214cb",
   "metadata": {},
   "outputs": [],
   "source": [
    "imdb_model = fasttext.train_supervised('imdb_data/fasttext_train.txt', autotuneValidationFile='imdb_data/fasttext_tune.valid')"
   ]
  },
  {
   "cell_type": "code",
   "execution_count": 18,
   "id": "0c2d7058",
   "metadata": {},
   "outputs": [
    {
     "data": {
      "text/plain": [
       "(10005, 0.9014492753623189, 0.9014492753623189)"
      ]
     },
     "execution_count": 18,
     "metadata": {},
     "output_type": "execute_result"
    }
   ],
   "source": [
    "imdb_model.test(\"imdb_data/fasttext_test.txt\")"
   ]
  },
  {
   "cell_type": "markdown",
   "id": "d063ed7d",
   "metadata": {},
   "source": [
    "<h2>FastText Yelp Polarity Model</h2>"
   ]
  },
  {
   "cell_type": "code",
   "execution_count": 8,
   "id": "1526fa81",
   "metadata": {},
   "outputs": [],
   "source": [
    "# open fasttext-formatted corpus file\n",
    "with open(\"yelp_data/fasttext_yelp_corpus.txt\", \"r\", encoding=\"utf-8\") as f:\n",
    "    content = f.read()\n",
    "    \n",
    "# get content of corpus as a dataframe\n",
    "# saving corpus to a text file and then splitting it later (in this file) allows for different random splits to be made if desired\n",
    "content = content.replace(\"|||\", '').replace(\"__label__positive\", \"__label__positive|||\").replace(\"__label__negative\", \"__label__negative|||\")\n",
    "df = pd.read_csv(StringIO(content), delimiter=\"\\|\\|\\|\\s*\", header=None, names=['sentiment', 'review'], quoting=3, engine='python')"
   ]
  },
  {
   "cell_type": "code",
   "execution_count": 9,
   "id": "a6035f83",
   "metadata": {},
   "outputs": [],
   "source": [
    "# split data into predictor (review) and sentiment to be predicted\n",
    "X = df['review']\n",
    "y = df['sentiment']\n",
    "\n",
    "# divide dataset into train, test, and validation sets (70, 20, 10 split)\n",
    "X_train, X_temp, y_train, y_temp = train_test_split(X, y, test_size=0.3, random_state=42, stratify=y)\n",
    "X_test, X_tune, y_test, y_tune = train_test_split(X_temp, y_temp, test_size=0.333, random_state=42, stratify=y_temp)\n",
    "\n",
    "# create list of dataframes to iterate through later\n",
    "sets = []\n",
    "setnames = ['train', 'test', 'tune']\n",
    "\n",
    "train = y_train.to_frame().join(X_train) # create training set\n",
    "sets.append(train)\n",
    "\n",
    "test = y_test.to_frame().join(X_test) # create testing set\n",
    "sets.append(test)\n",
    "\n",
    "tune = y_tune.to_frame().join(X_tune) # create validation set\n",
    "sets.append(tune)"
   ]
  },
  {
   "cell_type": "code",
   "execution_count": 10,
   "id": "6d43dc44",
   "metadata": {},
   "outputs": [],
   "source": [
    "i = 0\n",
    "for set in sets:\n",
    "    set.to_csv(f\"yelp_data/fasttext_{setnames[i]}_temp.txt\", index=False, sep=\" \", header=False, escapechar=\" \", quoting=csv.QUOTE_NONE)\n",
    "    \n",
    "    with open(f\"yelp_data/fasttext_{setnames[i]}_temp.txt\", \"r\", encoding=\"utf-8\") as f:\n",
    "        lines = f.readlines()\n",
    "    \n",
    "    cleaned_lines = []\n",
    "    for line in lines:\n",
    "        line = line.replace(\"  \", \" \")\n",
    "        cleaned_lines.append(line)\n",
    "\n",
    "    # final fasttext training corpus stored in \"fasttext_train.txt\"\n",
    "    with open(f\"yelp_data/fasttext_{setnames[i]}.txt\", \"w\", encoding=\"utf-8\") as f:\n",
    "        f.writelines(cleaned_lines)\n",
    "    \n",
    "    i += 1"
   ]
  },
  {
   "cell_type": "code",
   "execution_count": 11,
   "id": "3080c009",
   "metadata": {},
   "outputs": [],
   "source": [
    "yelp_model = fasttext.train_supervised('yelp_data/fasttext_train.txt')"
   ]
  },
  {
   "cell_type": "code",
   "execution_count": 13,
   "id": "9fc660ac",
   "metadata": {},
   "outputs": [
    {
     "data": {
      "text/plain": [
       "(112056, 0.9309006211180124, 0.9309006211180124)"
      ]
     },
     "execution_count": 13,
     "metadata": {},
     "output_type": "execute_result"
    }
   ],
   "source": [
    "yelp_model.test(\"yelp_data/fasttext_test.txt\")"
   ]
  }
 ],
 "metadata": {
  "kernelspec": {
   "display_name": "Python 3 (ipykernel)",
   "language": "python",
   "name": "python3"
  },
  "language_info": {
   "codemirror_mode": {
    "name": "ipython",
    "version": 3
   },
   "file_extension": ".py",
   "mimetype": "text/x-python",
   "name": "python",
   "nbconvert_exporter": "python",
   "pygments_lexer": "ipython3",
   "version": "3.9.13"
  }
 },
 "nbformat": 4,
 "nbformat_minor": 5
}
